{
 "cells": [
  {
   "cell_type": "code",
   "execution_count": 3,
   "metadata": {
    "collapsed": false
   },
   "outputs": [],
   "source": [
    "%matplotlib inline"
   ]
  },
  {
   "cell_type": "code",
   "execution_count": 4,
   "metadata": {
    "collapsed": true
   },
   "outputs": [],
   "source": [
    "import h5py\n",
    "import numpy as np\n",
    "from Find_Blob_DoG import Num_Blob, find_blob_DoG\n",
    "import plot_data\n",
    "import Blob_detected_plot"
   ]
  },
  {
   "cell_type": "markdown",
   "metadata": {},
   "source": [
    "### Divide Image "
   ]
  },
  {
   "cell_type": "code",
   "execution_count": 5,
   "metadata": {
    "collapsed": false
   },
   "outputs": [],
   "source": [
    "with h5py.File('../Data_Kevin.hdf5', 'r') as f:\n",
    "    nx, ny, nc, nt = f['Data_5'].shape\n",
    "    #img_divide = np.empty([nx,ny,nt])\n",
    "    #for t in range(nt):\n",
    "    #    img_divide[:,:,t] = np.divide(f['Data_5'][:,:,2,t], f['Analysis']['img_median_Red'])"
   ]
  },
  {
   "cell_type": "markdown",
   "metadata": {},
   "source": [
    "### Checking dataset in file"
   ]
  },
  {
   "cell_type": "code",
   "execution_count": null,
   "metadata": {
    "collapsed": false
   },
   "outputs": [],
   "source": [
    "with h5py.File('../Data_Kevin.hdf5', 'r') as f:\n",
    "    print([key for key in f['Img_divided'].keys()])"
   ]
  },
  {
   "cell_type": "markdown",
   "metadata": {},
   "source": [
    "### Removing a dataset"
   ]
  },
  {
   "cell_type": "code",
   "execution_count": null,
   "metadata": {
    "collapsed": true
   },
   "outputs": [],
   "source": [
    "with h5py.File('../Data_Kevin.hdf5', 'a') as f:\n",
    "    g2 = f['Img_divided']\n",
    "    g2.__delitem__('img_divide_data_2_Green_bis')"
   ]
  },
  {
   "cell_type": "markdown",
   "metadata": {},
   "source": [
    "### Saving a dataset"
   ]
  },
  {
   "cell_type": "code",
   "execution_count": null,
   "metadata": {
    "collapsed": false
   },
   "outputs": [],
   "source": [
    "with h5py.File('../Data_Kevin.hdf5', 'a') as f:\n",
    "    g2 = f['Img_divided']\n",
    "    g2.create_dataset('img_divide_data_5_Red', data = img_divide, shape=img_divide.data.shape, chunks=True)"
   ]
  },
  {
   "cell_type": "markdown",
   "metadata": {},
   "source": [
    "### Loading data"
   ]
  },
  {
   "cell_type": "code",
   "execution_count": 5,
   "metadata": {
    "collapsed": false
   },
   "outputs": [],
   "source": [
    "with h5py.File('../Data_Kevin.hdf5', 'r') as f:\n",
    "    img_divide_Green = f['Img_divided']['img_divide_data_3_Green'][()]\n",
    "    img_divide_Red = f['Img_divided']['img_divide_data_3_Red'][()]"
   ]
  },
  {
   "cell_type": "markdown",
   "metadata": {},
   "source": [
    "### Analysis\n",
    "\n",
    "#### Tile 3 : \n",
    " - Green Thresh = 0.95\n",
    " - Red Thresh = 1.2\n",
    " \n",
    "#### Tile 4 : \n",
    " - Green Thresh = 0.9\n",
    " - Red Thresh = 1.2\n",
    " \n",
    "#### Tile 5 : \n",
    " - Green Thresh = 0.9\n",
    " - Red Thresh = 1.2\n",
    " \n",
    "#### Tile 6 : \n",
    " - Green Thresh = 0.95\n",
    " - Red Thresh = 1.2"
   ]
  },
  {
   "cell_type": "code",
   "execution_count": 6,
   "metadata": {
    "collapsed": false
   },
   "outputs": [],
   "source": [
    "Green = Num_Blob(img_divide_Green, nt, thresh = 0.9)"
   ]
  },
  {
   "cell_type": "code",
   "execution_count": 7,
   "metadata": {
    "collapsed": false
   },
   "outputs": [],
   "source": [
    "Red = Num_Blob(img_divide_Red, nt, thresh = 1.2)"
   ]
  },
  {
   "cell_type": "code",
   "execution_count": 8,
   "metadata": {
    "collapsed": false
   },
   "outputs": [],
   "source": [
    "blob_Green, list_num_blob_Green = Green"
   ]
  },
  {
   "cell_type": "code",
   "execution_count": 9,
   "metadata": {
    "collapsed": true
   },
   "outputs": [],
   "source": [
    "blob_Red, list_num_blob_Red = Red"
   ]
  },
  {
   "cell_type": "markdown",
   "metadata": {},
   "source": [
    "### Save txt file"
   ]
  },
  {
   "cell_type": "code",
   "execution_count": 10,
   "metadata": {
    "collapsed": true
   },
   "outputs": [],
   "source": [
    "with open('Green_Tile4.txt', mode='wt', encoding='utf-8') as myfile:\n",
    "    myfile.write('\\n'.join(str(line) for line in list_num_blob_Green))"
   ]
  },
  {
   "cell_type": "code",
   "execution_count": 11,
   "metadata": {
    "collapsed": true
   },
   "outputs": [],
   "source": [
    "with open('Red_Tile4.txt', mode='wt', encoding='utf-8') as myfile:\n",
    "    myfile.write('\\n'.join(str(line) for line in list_num_blob_Red))"
   ]
  },
  {
   "cell_type": "markdown",
   "metadata": {},
   "source": [
    "### Open txt file"
   ]
  },
  {
   "cell_type": "code",
   "execution_count": null,
   "metadata": {
    "collapsed": false
   },
   "outputs": [],
   "source": [
    "with open('Red_Tile5.txt') as f:\n",
    "    list_num_blob_Red = f.read().splitlines()\n",
    "    list_num_blob_Red = [int(i) for i in list_num_blob_Red]\n",
    "with open('Green_Tile5.txt') as f:\n",
    "    list_num_blob_Green = f.read().splitlines()\n",
    "    list_num_blob_Green = [int(i) for i in list_num_blob_Green]"
   ]
  },
  {
   "cell_type": "code",
   "execution_count": 12,
   "metadata": {
    "collapsed": false
   },
   "outputs": [
    {
     "data": {
      "image/png": "[encoded data removed]",
      "text/plain": [
       "<matplotlib.figure.Figure at 0x2107a0588>"
      ]
     },
     "metadata": {},
     "output_type": "display_data"
    }
   ],
   "source": [
    "plot_data.plot(list_num_blob_Green, list_num_blob_Red)"
   ]
  },
  {
   "cell_type": "code",
   "execution_count": null,
   "metadata": {
    "collapsed": false
   },
   "outputs": [],
   "source": [
    "plot_data.plot(list_num_blob_Green, list_num_blob_Red)"
   ]
  },
  {
   "cell_type": "code",
   "execution_count": null,
   "metadata": {
    "collapsed": true
   },
   "outputs": [],
   "source": []
  },
  {
   "cell_type": "markdown",
   "metadata": {},
   "source": [
    "### That part is for checking the threshold"
   ]
  },
  {
   "cell_type": "code",
   "execution_count": 6,
   "metadata": {
    "collapsed": true
   },
   "outputs": [],
   "source": [
    "from math import *\n",
    "from scipy.ndimage import gaussian_filter\n",
    "import itertools as itt\n",
    "import matplotlib.pyplot as plt\n",
    "from skimage.exposure import equalize_hist"
   ]
  },
  {
   "cell_type": "code",
   "execution_count": 29,
   "metadata": {
    "collapsed": true
   },
   "outputs": [],
   "source": [
    "def find_max(image, x):\n",
    "    J = np.zeros(image.shape, dtype=bool)\n",
    "    J[1:-1,1:-1,x] = ((image[1:-1,1:-1,x] > image[ :-2, :-2,x]) & (image[1:-1,1:-1,x] > image[ :-2, 1:-1,x]) & (image[1:-1,1:-1,x] > image[ :-2,2:,x]) &\n",
    "                      (image[1:-1,1:-1,x] > image[1:-1, :-2,x]) &                                      (image[1:-1,1:-1,x] > image[1:-1,2:,x]) &\n",
    "                      (image[1:-1,1:-1,x] > image[2:  , :-2,x]) & (image[1:-1,1:-1,x] > image[2:  , 1:-1,x]) & (image[1:-1,1:-1,x] > image[2:  ,2:,x]))\n",
    "    \n",
    "    J[1:-1,1:-1,(x-1)] = ((image[1:-1,1:-1,x] > image[ :-2, :-2,(x-1)]) & (image[1:-1,1:-1,x] > image[ :-2, 1:-1,(x-1)]) & (image[1:-1,1:-1,x] > image[ :-2,2:,(x-1)]) &\n",
    "                      (image[1:-1,1:-1,x] > image[1:-1, :-2,(x-1)]) & (image[1:-1,1:-1,x] > image[1:-1, 1:-1,(x-1)]) & (image[1:-1,1:-1,x] > image[1:-1,2:,(x-1)]) &\n",
    "                      (image[1:-1,1:-1,x] > image[2:  , :-2,(x-1)]) & (image[1:-1,1:-1,x] > image[2:  , 1:-1,(x-1)]) & (image[1:-1,1:-1,x] > image[2:  ,2:,(x-1)]))\n",
    "    \n",
    "    J[1:-1,1:-1,(x+1)] = ((image[1:-1,1:-1,x] > image[ :-2, :-2,(x+1)]) & (image[1:-1,1:-1,x] > image[ :-2, 1:-1,(x+1)]) & (image[1:-1,1:-1,x] > image[ :-2,2:,(x+1)]) &\n",
    "                      (image[1:-1,1:-1,x] > image[1:-1, :-2,(x+1)]) & (image[1:-1,1:-1,x] > image[1:-1, 1:-1,(x+1)]) & (image[1:-1,1:-1,x] > image[1:-1,2:,(x+1)]) &\n",
    "                      (image[1:-1,1:-1,x] > image[2:  , :-2,(x+1)]) & (image[1:-1,1:-1,x] > image[2:  , 1:-1,(x+1)]) & (image[1:-1,1:-1,x] > image[2:  ,2:,(x+1)]))\n",
    "    \n",
    "    return J[:,:,x] & J[:,:,x-1] & J[:,:,x+1]"
   ]
  },
  {
   "cell_type": "code",
   "execution_count": 41,
   "metadata": {
    "collapsed": true
   },
   "outputs": [],
   "source": [
    "\n",
    "def find_blob_DoG(image):\n",
    "\n",
    "    min_sigma=5\n",
    "    max_sigma=50\n",
    "    sigma_ratio=1.6\n",
    "\n",
    "    k = int(log(float(max_sigma) / min_sigma, sigma_ratio)) + 1\n",
    "\n",
    "        # a geometric progression of standard deviations for gaussian kernels\n",
    "    sigma_list = np.array([min_sigma * (sigma_ratio ** i)for i in range(k + 1)])\n",
    "\n",
    "    gaussian_images = [gaussian_filter(image, s) for s in sigma_list]\n",
    "\n",
    "        # computing difference between two successive Gaussian blurred images\n",
    "        # multiplying with standard deviation provides scale invariance\n",
    "    dog_images = [(gaussian_images[i] - gaussian_images[i + 1])* sigma_list[i] for i in range(k)]\n",
    "    image_cube = np.dstack(dog_images)\n",
    "\n",
    "    maxima = []\n",
    "    for n in range(1, 4):\n",
    "        maxima.append(find_max(image_cube, n))\n",
    "    arr = np.array(maxima)    \n",
    "\n",
    "\n",
    "    arr &= image > 1.2\n",
    "    \n",
    "    local_maxima = np.argwhere(np.bitwise_or.reduce(arr))\n",
    "    add = np.zeros(local_maxima[:,0].shape)\n",
    "    local_maxima = np.concatenate((local_maxima, add[:,np.newaxis]), axis=1).astype(\"int64\")\n",
    "    \n",
    "\n",
    "    \n",
    "    for blob1, blob2 in itt.combinations(local_maxima, 2):\n",
    "        d = hypot(blob1[0] - blob2[0], blob1[1] - blob2[1])\n",
    "        if d < 30 :\n",
    "            blob2[2] = -1\n",
    "           \n",
    "    \n",
    "    return np.array([b for b in local_maxima if b[2] >= 0])"
   ]
  },
  {
   "cell_type": "code",
   "execution_count": 42,
   "metadata": {
    "collapsed": false
   },
   "outputs": [],
   "source": [
    "local_maxima_me = find_blob_DoG(img_divide_Red[:,:,0])"
   ]
  },
  {
   "cell_type": "code",
   "execution_count": null,
   "metadata": {
    "collapsed": true
   },
   "outputs": [],
   "source": [
    "img_eq = equalize_hist(img_divide_Red[:,:,90])"
   ]
  },
  {
   "cell_type": "code",
   "execution_count": null,
   "metadata": {
    "collapsed": false
   },
   "outputs": [],
   "source": [
    "fig, axes = plt.subplots(1,1, figsize=(40, 30))\n",
    "fig.suptitle(\"First Tile\",weight = \"bold\", fontsize=25, y = 0.88)\n",
    "axes.imshow(img_eq, cmap='gray',interpolation='nearest')\n",
    "axes.scatter(local_maxima_me[:,1], local_maxima_me[:,0], marker='o', facecolors='none', edgecolors='r', label = \"Counted Green Cells\")\n",
    "axes.legend(loc=0, fontsize=25, shadow=True)\n",
    "axes.axis(\"off\")\n",
    "axes.autoscale_view('tight')"
   ]
  },
  {
   "cell_type": "code",
   "execution_count": 9,
   "metadata": {
    "collapsed": true
   },
   "outputs": [],
   "source": [
    "import cProfile"
   ]
  },
  {
   "cell_type": "code",
   "execution_count": 39,
   "metadata": {
    "collapsed": false
   },
   "outputs": [
    {
     "name": "stdout",
     "output_type": "stream",
     "text": [
      "         10983 function calls (10957 primitive calls) in 0.013 seconds\n",
      "\n",
      "   Ordered by: standard name\n",
      "\n",
      "   ncalls  tottime  percall  cumtime  percall filename:lineno(function)\n",
      "        6    0.000    0.000    0.000    0.000 <frozen importlib._bootstrap>:996(_handle_fromlist)\n",
      "        1    0.000    0.000    0.013    0.013 <string>:1(<module>)\n",
      "        1    0.000    0.000    0.000    0.000 <string>:12(__new__)\n",
      "       21    0.000    0.000    0.000    0.000 _collections_abc.py:599(__contains__)\n",
      "        1    0.000    0.000    0.000    0.000 _collections_abc.py:611(items)\n",
      "        4    0.000    0.000    0.000    0.000 _collections_abc.py:615(values)\n",
      "        5    0.000    0.000    0.000    0.000 _collections_abc.py:631(__init__)\n",
      "       26    0.000    0.000    0.000    0.000 _collections_abc.py:675(__iter__)\n",
      "      728    0.001    0.000    0.001    0.000 _collections_abc.py:692(__iter__)\n",
      "        4    0.000    0.000    0.000    0.000 _weakrefset.py:70(__contains__)\n",
      "        2    0.000    0.000    0.000    0.000 abc.py:178(__instancecheck__)\n",
      "        1    0.000    0.000    0.000    0.000 abstracttypes.py:102(__eq__)\n",
      "        1    0.000    0.000    0.000    0.000 abstracttypes.py:42(_intern)\n",
      "        1    0.000    0.000    0.000    0.000 abstracttypes.py:54(__call__)\n",
      "        1    0.000    0.000    0.000    0.000 abstracttypes.py:85(__init__)\n",
      "        2    0.000    0.000    0.000    0.000 abstracttypes.py:88(key)\n",
      "        1    0.000    0.000    0.000    0.000 abstracttypes.py:96(__repr__)\n",
      "      4/2    0.000    0.000    0.000    0.000 abstracttypes.py:99(__hash__)\n",
      "        1    0.000    0.000    0.000    0.000 base.py:175(refresh)\n",
      "        1    0.000    0.000    0.000    0.000 base.py:202(subtarget)\n",
      "        8    0.000    0.000    0.000    0.000 base.py:213(install_registry)\n",
      "        8    0.000    0.000    0.000    0.000 base.py:228(insert_func_defn)\n",
      "        8    0.000    0.000    0.000    0.000 base.py:232(_insert_getattr_defn)\n",
      "        8    0.000    0.000    0.000    0.000 base.py:236(_insert_setattr_defn)\n",
      "        8    0.000    0.000    0.000    0.000 base.py:240(_insert_cast_defn)\n",
      "        1    0.000    0.000    0.000    0.000 bytecode.py:19(get_function_object)\n",
      "      181    0.000    0.000    0.000    0.000 bytecode.py:200(__init__)\n",
      "      356    0.000    0.000    0.000    0.000 bytecode.py:212(is_jump)\n",
      "       14    0.000    0.000    0.000    0.000 bytecode.py:220(get_jump_target)\n",
      "        1    0.000    0.000    0.000    0.000 bytecode.py:245(__init__)\n",
      "        1    0.000    0.000    0.000    0.000 bytecode.py:252(__iter__)\n",
      "      182    0.000    0.000    0.000    0.000 bytecode.py:255(_fetch_opcode)\n",
      "      182    0.000    0.000    0.001    0.000 bytecode.py:269(next)\n",
      "      158    0.000    0.000    0.000    0.000 bytecode.py:279(read_arg)\n",
      "        1    0.000    0.000    0.000    0.000 bytecode.py:300(__init__)\n",
      "        1    0.000    0.000    0.000    0.000 bytecode.py:31(get_code_object)\n",
      "      182    0.000    0.000    0.000    0.000 bytecode.py:324(<genexpr>)\n",
      "        2    0.000    0.000    0.000    0.000 bytecode.py:326(__iter__)\n",
      "        4    0.000    0.000    0.000    0.000 bytecode.py:329(__getitem__)\n",
      "        1    0.000    0.000    0.002    0.002 bytecode.py:391(__init__)\n",
      "        1    0.000    0.000    0.000    0.000 bytecode.py:422(_mark_lineno)\n",
      "        1    0.000    0.000    0.000    0.000 callconv.py:458(__init__)\n",
      "        1    0.000    0.000    0.003    0.003 compiler.py:118(get_function_attributes)\n",
      "        1    0.000    0.000    0.000    0.000 compiler.py:185(__init__)\n",
      "        1    0.000    0.000    0.000    0.000 compiler.py:203(__init__)\n",
      "        2    0.000    0.000    0.000    0.000 compiler.py:208(create_pipeline)\n",
      "       12    0.000    0.000    0.000    0.000 compiler.py:214(add_stage)\n",
      "        1    0.000    0.000    0.000    0.000 compiler.py:220(finalize)\n",
      "        2    0.000    0.000    0.000    0.000 compiler.py:223(_patch_error)\n",
      "        1    0.000    0.000    0.006    0.006 compiler.py:237(run)\n",
      "        1    0.000    0.000    0.001    0.001 compiler.py:270(__init__)\n",
      "        1    0.000    0.000    0.005    0.005 compiler.py:352(extract_bytecode)\n",
      "        1    0.000    0.000    0.011    0.011 compiler.py:365(compile_extra)\n",
      "        1    0.000    0.000    0.006    0.006 compiler.py:377(compile_bytecode)\n",
      "        2    0.000    0.000    0.006    0.003 compiler.py:395(stage_analyze_bytecode)\n",
      "        1    0.000    0.000    0.006    0.006 compiler.py:639(_compile_bytecode)\n",
      "        1    0.000    0.000    0.012    0.012 compiler.py:677(compile_extra)\n",
      "        2    0.000    0.000    0.006    0.003 compiler.py:758(translate_stage)\n",
      "        1    0.000    0.000    0.000    0.000 compilerop.py:137(check_linecache_ipython)\n",
      "        1    0.000    0.000    0.000    0.000 config.py:209(reload_config)\n",
      "        1    0.000    0.000    0.000    0.000 config.py:73(update)\n",
      "        1    0.000    0.000    0.000    0.000 context.py:247(_load_builtins)\n",
      "        8    0.000    0.000    0.000    0.000 context.py:258(install_registry)\n",
      "        1    0.000    0.000    0.000    0.000 context.py:511(load_additional_registries)\n",
      "        1    0.000    0.000    0.000    0.000 context.py:59(refresh)\n",
      "        2    0.000    0.000    0.000    0.000 controlflow.py:102(set_entry_point)\n",
      "        2    0.000    0.000    0.001    0.001 controlflow.py:109(process)\n",
      "        2    0.000    0.000    0.000    0.000 controlflow.py:164(backbone)\n",
      "       24    0.000    0.000    0.000    0.000 controlflow.py:17(__init__)\n",
      "        2    0.000    0.000    0.000    0.000 controlflow.py:193(nodes)\n",
      "       28    0.000    0.000    0.000    0.000 controlflow.py:240(_add_edge)\n",
      "        2    0.000    0.000    0.000    0.000 controlflow.py:247(_remove_node_edges)\n",
      "       26    0.000    0.000    0.000    0.000 controlflow.py:255(_dfs)\n",
      "        2    0.000    0.000    0.000    0.000 controlflow.py:268(_eliminate_dead_blocks)\n",
      "        2    0.000    0.000    0.000    0.000 controlflow.py:282(_find_exit_points)\n",
      "        4    0.001    0.000    0.001    0.000 controlflow.py:292(_find_dominators_internal)\n",
      "        2    0.000    0.000    0.000    0.000 controlflow.py:32(__iter__)\n",
      "       96    0.000    0.000    0.000    0.000 controlflow.py:328(<listcomp>)\n",
      "        2    0.000    0.000    0.000    0.000 controlflow.py:335(_find_dominators)\n",
      "        2    0.000    0.000    0.001    0.000 controlflow.py:338(_find_post_dominators)\n",
      "        2    0.000    0.000    0.000    0.000 controlflow.py:358(_find_back_edges)\n",
      "       30    0.000    0.000    0.000    0.000 controlflow.py:369(<genexpr>)\n",
      "        2    0.000    0.000    0.000    0.000 controlflow.py:372(_find_topo_order)\n",
      "     24/2    0.000    0.000    0.000    0.000 controlflow.py:378(_dfs_rec)\n",
      "        2    0.000    0.000    0.000    0.000 controlflow.py:390(_find_descendents)\n",
      "        2    0.000    0.000    0.000    0.000 controlflow.py:400(_find_loops)\n",
      "       26    0.000    0.000    0.000    0.000 controlflow.py:437(<genexpr>)\n",
      "        4    0.000    0.000    0.000    0.000 controlflow.py:440(<lambda>)\n",
      "        2    0.000    0.000    0.000    0.000 controlflow.py:469(__init__)\n",
      "        4    0.000    0.000    0.000    0.000 controlflow.py:489(iterliveblocks)\n",
      "        2    0.000    0.000    0.000    0.000 controlflow.py:497(incoming_blocks)\n",
      "        2    0.001    0.000    0.005    0.002 controlflow.py:508(run)\n",
      "       26    0.000    0.000    0.000    0.000 controlflow.py:539(<genexpr>)\n",
      "       16    0.000    0.000    0.000    0.000 controlflow.py:562(jump)\n",
      "      364    0.000    0.000    0.002    0.000 controlflow.py:569(_iter_inst)\n",
      "      362    0.000    0.000    0.000    0.000 controlflow.py:576(_use_new_block)\n",
      "       24    0.000    0.000    0.000    0.000 controlflow.py:587(_start_new_block)\n",
      "        4    0.000    0.000    0.000    0.000 controlflow.py:592(op_SETUP_LOOP)\n",
      "        4    0.000    0.000    0.000    0.000 controlflow.py:597(op_POP_BLOCK)\n",
      "        4    0.000    0.000    0.000    0.000 controlflow.py:600(op_FOR_ITER)\n",
      "        2    0.000    0.000    0.000    0.000 controlflow.py:605(_op_ABSOLUTE_JUMP_IF)\n",
      "        2    0.000    0.000    0.000    0.000 controlflow.py:61(__init__)\n",
      "        4    0.000    0.000    0.000    0.000 controlflow.py:623(op_JUMP_ABSOLUTE)\n",
      "        2    0.000    0.000    0.000    0.000 controlflow.py:631(op_RETURN_VALUE)\n",
      "       24    0.000    0.000    0.000    0.000 controlflow.py:68(add_node)\n",
      "       28    0.000    0.000    0.000    0.000 controlflow.py:75(add_edge)\n",
      "        1    0.000    0.000    0.000    0.000 copy.py:270(_reconstruct)\n",
      "        1    0.000    0.000    0.000    0.000 copy.py:67(copy)\n",
      "        1    0.000    0.000    0.000    0.000 copyreg.py:87(__newobj__)\n",
      "        1    0.000    0.000    0.000    0.000 cpu.py:50(load_additional_registries)\n",
      "        2    0.000    0.000    0.000    0.000 cpu.py:72(codegen)\n",
      "        2    0.000    0.000    0.000    0.000 dataflow.py:19(__init__)\n",
      "        2    0.000    0.000    0.000    0.000 dataflow.py:217(op_LOAD_CONST)\n",
      "        2    0.000    0.000    0.000    0.000 dataflow.py:25(run)\n",
      "        2    0.000    0.000    0.000    0.000 dataflow.py:29(run_on_block)\n",
      "        2    0.000    0.000    0.000    0.000 dataflow.py:614(__init__)\n",
      "        2    0.000    0.000    0.000    0.000 dataflow.py:640(make_temp)\n",
      "        2    0.000    0.000    0.000    0.000 dataflow.py:645(push)\n",
      "        2    0.000    0.000    0.000    0.000 dataflow.py:700(append)\n",
      "        4    0.000    0.000    0.000    0.000 dataflow.py:78(dispatch)\n",
      "        1    0.000    0.000    0.000    0.000 dis.py:358(findlabels)\n",
      "       22    0.000    0.000    0.000    0.000 dis.py:385(findlinestarts)\n",
      "        1    0.000    0.000    0.013    0.013 dispatcher.py:261(_compile_for_args)\n",
      "        1    0.000    0.000    0.000    0.000 dispatcher.py:341(typeof_pyval)\n",
      "        1    0.000    0.000    0.012    0.012 dispatcher.py:438(compile)\n",
      "        1    0.000    0.000    0.000    0.000 dispatcher.py:541(load_overload)\n",
      "        1    0.000    0.000    0.012    0.012 dispatcher.py:70(compile)\n",
      "        1    0.000    0.000    0.000    0.000 dispatcher.py:88(_get_implementation)\n",
      "        1    0.000    0.000    0.000    0.000 functools.py:704(dispatch)\n",
      "        1    0.000    0.000    0.000    0.000 functools.py:742(wrapper)\n",
      "        2    0.000    0.000    0.000    0.000 genericpath.py:16(exists)\n",
      "        6    0.000    0.000    0.000    0.000 inspect.py:158(isfunction)\n",
      "        1    0.000    0.000    0.000    0.000 inspect.py:171(isgeneratorfunction)\n",
      "        1    0.000    0.000    0.000    0.000 inspect.py:2065(_signature_from_function)\n",
      "        1    0.000    0.000    0.000    0.000 inspect.py:2146(_signature_from_callable)\n",
      "        3    0.000    0.000    0.000    0.000 inspect.py:217(istraceback)\n",
      "        3    0.000    0.000    0.000    0.000 inspect.py:227(isframe)\n",
      "        1    0.000    0.000    0.000    0.000 inspect.py:2399(__init__)\n",
      "        3    0.000    0.000    0.000    0.000 inspect.py:241(iscode)\n",
      "        1    0.000    0.000    0.000    0.000 inspect.py:2434(name)\n",
      "        1    0.000    0.000    0.000    0.000 inspect.py:2666(__init__)\n",
      "        2    0.000    0.000    0.000    0.000 inspect.py:2711(<genexpr>)\n",
      "        1    0.000    0.000    0.000    0.000 inspect.py:2735(from_callable)\n",
      "        2    0.000    0.000    0.000    0.000 inspect.py:2741(parameters)\n",
      "        1    0.000    0.000    0.000    0.000 inspect.py:2987(signature)\n",
      "        2    0.000    0.000    0.000    0.000 inspect.py:447(unwrap)\n",
      "        1    0.000    0.000    0.000    0.000 inspect.py:464(_is_wrapper)\n",
      "        1    0.000    0.000    0.000    0.000 inspect.py:467(_is_wrapper)\n",
      "        2    0.000    0.000    0.000    0.000 inspect.py:602(getfile)\n",
      "        8    0.000    0.000    0.000    0.000 inspect.py:63(ismodule)\n",
      "        2    0.000    0.000    0.000    0.000 inspect.py:656(getsourcefile)\n",
      "        6    0.000    0.000    0.000    0.000 inspect.py:663(<genexpr>)\n",
      "        8    0.000    0.000    0.000    0.000 inspect.py:666(<genexpr>)\n",
      "        4    0.000    0.000    0.000    0.000 inspect.py:690(getmodule)\n",
      "        3    0.000    0.000    0.000    0.000 inspect.py:72(isclass)\n",
      "        1    0.000    0.000    0.000    0.000 inspect.py:736(findsource)\n",
      "        3    0.000    0.000    0.000    0.000 inspect.py:80(ismethod)\n",
      "        1    0.000    0.000    0.000    0.000 inspect.py:858(__init__)\n",
      "      328    0.000    0.000    0.000    0.000 inspect.py:867(tokeneater)\n",
      "        1    0.000    0.000    0.003    0.003 inspect.py:911(getblock)\n",
      "        1    0.000    0.000    0.003    0.003 inspect.py:922(getsourcelines)\n",
      "        2    0.000    0.000    0.005    0.003 interpreter.py:111(reset)\n",
      "        2    0.000    0.000    0.006    0.003 interpreter.py:94(__init__)\n",
      "        2    0.000    0.000    0.000    0.000 ir.py:16(__init__)\n",
      "        2    0.000    0.000    0.000    0.000 ir.py:44(__init__)\n",
      "        2    0.000    0.000    0.000    0.000 ir.py:556(__init__)\n",
      "        1    0.000    0.000    0.000    0.000 linecache.py:37(getlines)\n",
      "        1    0.000    0.000    0.000    0.000 linecache.py:53(checkcache)\n",
      "        1    0.000    0.000    0.000    0.000 numpy_support.py:157(map_layout)\n",
      "        1    0.000    0.000    0.000    0.000 numpy_support.py:84(from_dtype)\n",
      "        1    0.000    0.000    0.000    0.000 options.py:10(__init__)\n",
      "        1    0.000    0.000    0.000    0.000 options.py:13(from_dict)\n",
      "        1    0.000    0.000    0.000    0.000 options.py:23(parse_as_flags)\n",
      "        1    0.000    0.000    0.000    0.000 options.py:30(set_flags)\n",
      "       25    0.000    0.000    0.000    0.000 os.py:678(__getitem__)\n",
      "       26    0.000    0.000    0.000    0.000 os.py:701(__iter__)\n",
      "       25    0.000    0.000    0.000    0.000 os.py:754(encode)\n",
      "       50    0.000    0.000    0.000    0.000 os.py:758(decode)\n",
      "        1    0.000    0.000    0.000    0.000 randomimpl.py:35(random_init)\n",
      "      301    0.000    0.000    0.000    0.000 re.py:222(compile)\n",
      "      301    0.000    0.000    0.000    0.000 re.py:278(_compile)\n",
      "        1    0.000    0.000    0.000    0.000 sigutils.py:14(normalize_signature)\n",
      "        4    0.000    0.000    0.000    0.000 six.py:554(itervalues)\n",
      "       56    0.000    0.000    0.000    0.000 templates.py:614(new_registrations)\n",
      "      300    0.000    0.000    0.000    0.000 tokenize.py:172(_compile)\n",
      "      329    0.001    0.000    0.002    0.000 tokenize.py:494(_tokenize)\n",
      "        1    0.000    0.000    0.000    0.000 tokenize.py:712(generate_tokens)\n",
      "        4    0.000    0.000    0.000    0.000 tracing.py:204(noevent)\n",
      "        1    0.000    0.000    0.000    0.000 typeof.py:146(_typeof_ndarray)\n",
      "        1    0.000    0.000    0.000    0.000 typeof.py:22(typeof)\n",
      "        1    0.000    0.000    0.000    0.000 types.py:829(__init__)\n",
      "        1    0.000    0.000    0.000    0.000 types.py:915(__init__)\n",
      "        4    0.000    0.000    0.000    0.000 types.py:943(key)\n",
      "        1    0.000    0.000    0.000    0.000 utils.py:130(__init__)\n",
      "        4    0.000    0.000    0.000    0.000 utils.py:133(set)\n",
      "        7    0.000    0.000    0.000    0.000 utils.py:141(__getattr__)\n",
      "        1    0.000    0.000    0.001    0.001 utils.py:170(__init__)\n",
      "      770    0.000    0.000    0.000    0.000 utils.py:177(__getitem__)\n",
      "        4    0.000    0.000    0.000    0.000 utils.py:184(__iter__)\n",
      "      728    0.000    0.000    0.000    0.000 utils.py:185(<genexpr>)\n",
      "        1    0.000    0.000    0.000    0.000 utils.py:219(acquire)\n",
      "        1    0.000    0.000    0.000    0.000 utils.py:226(release)\n",
      "        1    0.000    0.000    0.000    0.000 utils.py:240(__exit__)\n",
      "       56    0.000    0.000    0.000    0.000 utils.py:290(stream_list)\n",
      "       56    0.000    0.000    0.000    0.000 utils.py:299(sublist_iterator)\n",
      "        1    0.000    0.000    0.000    0.000 weakref.py:364(__getitem__)\n",
      "      335    0.000    0.000    0.000    0.000 {built-in method __new__ of type object at 0x10022c440}\n",
      "       96    0.000    0.000    0.000    0.000 {built-in method _functools.reduce}\n",
      "        2    0.000    0.000    0.000    0.000 {built-in method _thread.get_ident}\n",
      "        4    0.000    0.000    0.000    0.000 {built-in method builtins.any}\n",
      "        1    0.000    0.000    0.000    0.000 {built-in method builtins.callable}\n",
      "        1    0.000    0.000    0.013    0.013 {built-in method builtins.exec}\n",
      "      373    0.000    0.000    0.000    0.000 {built-in method builtins.getattr}\n",
      "       44    0.000    0.000    0.000    0.000 {built-in method builtins.hasattr}\n",
      "      4/2    0.000    0.000    0.000    0.000 {built-in method builtins.hash}\n",
      "        3    0.000    0.000    0.000    0.000 {built-in method builtins.id}\n",
      "       65    0.000    0.000    0.000    0.000 {built-in method builtins.isinstance}\n",
      "        1    0.000    0.000    0.000    0.000 {built-in method builtins.issubclass}\n",
      "       67    0.000    0.000    0.000    0.000 {built-in method builtins.iter}\n",
      "      241    0.000    0.000    0.000    0.000 {built-in method builtins.len}\n",
      "        3    0.000    0.000    0.000    0.000 {built-in method builtins.min}\n",
      "      554    0.000    0.000    0.000    0.000 {built-in method builtins.next}\n",
      "        2    0.000    0.000    0.000    0.000 {built-in method builtins.setattr}\n",
      "        4    0.000    0.000    0.001    0.000 {built-in method builtins.sorted}\n",
      "        1    0.000    0.000    0.000    0.000 {built-in method posix.getpid}\n",
      "        3    0.000    0.000    0.000    0.000 {built-in method posix.stat}\n",
      "        1    0.000    0.000    0.000    0.000 {method '__reduce_ex__' of 'object' objects}\n",
      "        1    0.000    0.000    0.000    0.000 {method 'acquire' of '_thread.lock' objects}\n",
      "      205    0.000    0.000    0.000    0.000 {method 'add' of 'set' objects}\n",
      "      713    0.000    0.000    0.000    0.000 {method 'append' of 'list' objects}\n",
      "        2    0.000    0.000    0.000    0.000 {method 'copy' of 'dict' objects}\n",
      "       50    0.000    0.000    0.000    0.000 {method 'decode' of 'bytes' objects}\n",
      "        1    0.000    0.000    0.000    0.000 {method 'disable' of '_lsprof.Profiler' objects}\n",
      "       24    0.000    0.000    0.000    0.000 {method 'discard' of 'set' objects}\n",
      "       25    0.000    0.000    0.000    0.000 {method 'encode' of 'str' objects}\n",
      "       10    0.000    0.000    0.000    0.000 {method 'endswith' of 'str' objects}\n",
      "       52    0.000    0.000    0.000    0.000 {method 'extend' of 'list' objects}\n",
      "        2    0.000    0.000    0.000    0.000 {method 'format' of 'str' objects}\n",
      "       34    0.000    0.000    0.000    0.000 {method 'get' of 'dict' objects}\n",
      "      256    0.000    0.000    0.000    0.000 {method 'isidentifier' of 'str' objects}\n",
      "       56    0.000    0.000    0.000    0.000 {method 'items' of 'dict' objects}\n",
      "        2    0.000    0.000    0.000    0.000 {method 'keys' of 'dict' objects}\n",
      "      300    0.000    0.000    0.000    0.000 {method 'match' of '_sre.SRE_Pattern' objects}\n",
      "       12    0.000    0.000    0.000    0.000 {method 'pop' of 'dict' objects}\n",
      "      144    0.000    0.000    0.000    0.000 {method 'pop' of 'list' objects}\n",
      "        1    0.000    0.000    0.000    0.000 {method 'release' of '_thread.lock' objects}\n",
      "        2    0.000    0.000    0.000    0.000 {method 'remove' of 'set' objects}\n",
      "        4    0.000    0.000    0.000    0.000 {method 'replace' of 'str' objects}\n",
      "        2    0.000    0.000    0.000    0.000 {method 'reverse' of 'list' objects}\n",
      "        3    0.000    0.000    0.000    0.000 {method 'rstrip' of 'str' objects}\n",
      "      300    0.000    0.000    0.000    0.000 {method 'span' of '_sre.SRE_Match' objects}\n",
      "        1    0.000    0.000    0.000    0.000 {method 'split' of 'str' objects}\n",
      "       25    0.000    0.000    0.000    0.000 {method 'startswith' of 'str' objects}\n",
      "        2    0.000    0.000    0.000    0.000 {method 'update' of 'dict' objects}\n",
      "       68    0.000    0.000    0.000    0.000 {method 'update' of 'set' objects}\n",
      "       10    0.000    0.000    0.000    0.000 {method 'values' of 'dict' objects}\n",
      "\n",
      "\n"
     ]
    },
    {
     "ename": "AttributeError",
     "evalue": "Failed at object (analyzing bytecode)\n'DataFlowAnalysis' object has no attribute 'op_STORE_DEREF'",
     "output_type": "error",
     "traceback": [
      "\u001b[0;31m---------------------------------------------------------------------------\u001b[0m",
      "\u001b[0;31mAttributeError\u001b[0m                            Traceback (most recent call last)",
      "\u001b[0;32m<ipython-input-39-0e8ce3b04106>\u001b[0m in \u001b[0;36m<module>\u001b[0;34m()\u001b[0m\n\u001b[0;32m----> 1\u001b[0;31m \u001b[0mcProfile\u001b[0m\u001b[0;34m.\u001b[0m\u001b[0mrun\u001b[0m\u001b[0;34m(\u001b[0m\u001b[0;34m'find_blob_DoG(img_divide_Red[:,:,0])'\u001b[0m\u001b[0;34m)\u001b[0m\u001b[0;34m\u001b[0m\u001b[0m\n\u001b[0m",
      "\u001b[0;32m/Users/Espenel/anaconda/lib/python3.5/cProfile.py\u001b[0m in \u001b[0;36mrun\u001b[0;34m(statement, filename, sort)\u001b[0m\n\u001b[1;32m     14\u001b[0m \u001b[0;34m\u001b[0m\u001b[0m\n\u001b[1;32m     15\u001b[0m \u001b[0;32mdef\u001b[0m \u001b[0mrun\u001b[0m\u001b[0;34m(\u001b[0m\u001b[0mstatement\u001b[0m\u001b[0;34m,\u001b[0m \u001b[0mfilename\u001b[0m\u001b[0;34m=\u001b[0m\u001b[0;32mNone\u001b[0m\u001b[0;34m,\u001b[0m \u001b[0msort\u001b[0m\u001b[0;34m=\u001b[0m\u001b[0;34m-\u001b[0m\u001b[0;36m1\u001b[0m\u001b[0;34m)\u001b[0m\u001b[0;34m:\u001b[0m\u001b[0;34m\u001b[0m\u001b[0m\n\u001b[0;32m---> 16\u001b[0;31m     \u001b[0;32mreturn\u001b[0m \u001b[0m_pyprofile\u001b[0m\u001b[0;34m.\u001b[0m\u001b[0m_Utils\u001b[0m\u001b[0;34m(\u001b[0m\u001b[0mProfile\u001b[0m\u001b[0;34m)\u001b[0m\u001b[0;34m.\u001b[0m\u001b[0mrun\u001b[0m\u001b[0;34m(\u001b[0m\u001b[0mstatement\u001b[0m\u001b[0;34m,\u001b[0m \u001b[0mfilename\u001b[0m\u001b[0;34m,\u001b[0m \u001b[0msort\u001b[0m\u001b[0;34m)\u001b[0m\u001b[0;34m\u001b[0m\u001b[0m\n\u001b[0m\u001b[1;32m     17\u001b[0m \u001b[0;34m\u001b[0m\u001b[0m\n\u001b[1;32m     18\u001b[0m \u001b[0;32mdef\u001b[0m \u001b[0mrunctx\u001b[0m\u001b[0;34m(\u001b[0m\u001b[0mstatement\u001b[0m\u001b[0;34m,\u001b[0m \u001b[0mglobals\u001b[0m\u001b[0;34m,\u001b[0m \u001b[0mlocals\u001b[0m\u001b[0;34m,\u001b[0m \u001b[0mfilename\u001b[0m\u001b[0;34m=\u001b[0m\u001b[0;32mNone\u001b[0m\u001b[0;34m,\u001b[0m \u001b[0msort\u001b[0m\u001b[0;34m=\u001b[0m\u001b[0;34m-\u001b[0m\u001b[0;36m1\u001b[0m\u001b[0;34m)\u001b[0m\u001b[0;34m:\u001b[0m\u001b[0;34m\u001b[0m\u001b[0m\n",
      "\u001b[0;32m/Users/Espenel/anaconda/lib/python3.5/profile.py\u001b[0m in \u001b[0;36mrun\u001b[0;34m(self, statement, filename, sort)\u001b[0m\n\u001b[1;32m     53\u001b[0m         \u001b[0mprof\u001b[0m \u001b[0;34m=\u001b[0m \u001b[0mself\u001b[0m\u001b[0;34m.\u001b[0m\u001b[0mprofiler\u001b[0m\u001b[0;34m(\u001b[0m\u001b[0;34m)\u001b[0m\u001b[0;34m\u001b[0m\u001b[0m\n\u001b[1;32m     54\u001b[0m         \u001b[0;32mtry\u001b[0m\u001b[0;34m:\u001b[0m\u001b[0;34m\u001b[0m\u001b[0m\n\u001b[0;32m---> 55\u001b[0;31m             \u001b[0mprof\u001b[0m\u001b[0;34m.\u001b[0m\u001b[0mrun\u001b[0m\u001b[0;34m(\u001b[0m\u001b[0mstatement\u001b[0m\u001b[0;34m)\u001b[0m\u001b[0;34m\u001b[0m\u001b[0m\n\u001b[0m\u001b[1;32m     56\u001b[0m         \u001b[0;32mexcept\u001b[0m \u001b[0mSystemExit\u001b[0m\u001b[0;34m:\u001b[0m\u001b[0;34m\u001b[0m\u001b[0m\n\u001b[1;32m     57\u001b[0m             \u001b[0;32mpass\u001b[0m\u001b[0;34m\u001b[0m\u001b[0m\n",
      "\u001b[0;32m/Users/Espenel/anaconda/lib/python3.5/cProfile.py\u001b[0m in \u001b[0;36mrun\u001b[0;34m(self, cmd)\u001b[0m\n\u001b[1;32m     93\u001b[0m         \u001b[0;32mimport\u001b[0m \u001b[0m__main__\u001b[0m\u001b[0;34m\u001b[0m\u001b[0m\n\u001b[1;32m     94\u001b[0m         \u001b[0mdict\u001b[0m \u001b[0;34m=\u001b[0m \u001b[0m__main__\u001b[0m\u001b[0;34m.\u001b[0m\u001b[0m__dict__\u001b[0m\u001b[0;34m\u001b[0m\u001b[0m\n\u001b[0;32m---> 95\u001b[0;31m         \u001b[0;32mreturn\u001b[0m \u001b[0mself\u001b[0m\u001b[0;34m.\u001b[0m\u001b[0mrunctx\u001b[0m\u001b[0;34m(\u001b[0m\u001b[0mcmd\u001b[0m\u001b[0;34m,\u001b[0m \u001b[0mdict\u001b[0m\u001b[0;34m,\u001b[0m \u001b[0mdict\u001b[0m\u001b[0;34m)\u001b[0m\u001b[0;34m\u001b[0m\u001b[0m\n\u001b[0m\u001b[1;32m     96\u001b[0m \u001b[0;34m\u001b[0m\u001b[0m\n\u001b[1;32m     97\u001b[0m     \u001b[0;32mdef\u001b[0m \u001b[0mrunctx\u001b[0m\u001b[0;34m(\u001b[0m\u001b[0mself\u001b[0m\u001b[0;34m,\u001b[0m \u001b[0mcmd\u001b[0m\u001b[0;34m,\u001b[0m \u001b[0mglobals\u001b[0m\u001b[0;34m,\u001b[0m \u001b[0mlocals\u001b[0m\u001b[0;34m)\u001b[0m\u001b[0;34m:\u001b[0m\u001b[0;34m\u001b[0m\u001b[0m\n",
      "\u001b[0;32m/Users/Espenel/anaconda/lib/python3.5/cProfile.py\u001b[0m in \u001b[0;36mrunctx\u001b[0;34m(self, cmd, globals, locals)\u001b[0m\n\u001b[1;32m     98\u001b[0m         \u001b[0mself\u001b[0m\u001b[0;34m.\u001b[0m\u001b[0menable\u001b[0m\u001b[0;34m(\u001b[0m\u001b[0;34m)\u001b[0m\u001b[0;34m\u001b[0m\u001b[0m\n\u001b[1;32m     99\u001b[0m         \u001b[0;32mtry\u001b[0m\u001b[0;34m:\u001b[0m\u001b[0;34m\u001b[0m\u001b[0m\n\u001b[0;32m--> 100\u001b[0;31m             \u001b[0mexec\u001b[0m\u001b[0;34m(\u001b[0m\u001b[0mcmd\u001b[0m\u001b[0;34m,\u001b[0m \u001b[0mglobals\u001b[0m\u001b[0;34m,\u001b[0m \u001b[0mlocals\u001b[0m\u001b[0;34m)\u001b[0m\u001b[0;34m\u001b[0m\u001b[0m\n\u001b[0m\u001b[1;32m    101\u001b[0m         \u001b[0;32mfinally\u001b[0m\u001b[0;34m:\u001b[0m\u001b[0;34m\u001b[0m\u001b[0m\n\u001b[1;32m    102\u001b[0m             \u001b[0mself\u001b[0m\u001b[0;34m.\u001b[0m\u001b[0mdisable\u001b[0m\u001b[0;34m(\u001b[0m\u001b[0;34m)\u001b[0m\u001b[0;34m\u001b[0m\u001b[0m\n",
      "\u001b[0;32m<string>\u001b[0m in \u001b[0;36m<module>\u001b[0;34m()\u001b[0m\n",
      "\u001b[0;32m/Users/Espenel/anaconda/lib/python3.5/site-packages/numba/dispatcher.py\u001b[0m in \u001b[0;36m_compile_for_args\u001b[0;34m(self, *args, **kws)\u001b[0m\n\u001b[1;32m    271\u001b[0m             \u001b[0;32melse\u001b[0m\u001b[0;34m:\u001b[0m\u001b[0;34m\u001b[0m\u001b[0m\n\u001b[1;32m    272\u001b[0m                 \u001b[0mreal_args\u001b[0m\u001b[0;34m.\u001b[0m\u001b[0mappend\u001b[0m\u001b[0;34m(\u001b[0m\u001b[0mself\u001b[0m\u001b[0;34m.\u001b[0m\u001b[0mtypeof_pyval\u001b[0m\u001b[0;34m(\u001b[0m\u001b[0ma\u001b[0m\u001b[0;34m)\u001b[0m\u001b[0;34m)\u001b[0m\u001b[0;34m\u001b[0m\u001b[0m\n\u001b[0;32m--> 273\u001b[0;31m         \u001b[0;32mreturn\u001b[0m \u001b[0mself\u001b[0m\u001b[0;34m.\u001b[0m\u001b[0mcompile\u001b[0m\u001b[0;34m(\u001b[0m\u001b[0mtuple\u001b[0m\u001b[0;34m(\u001b[0m\u001b[0mreal_args\u001b[0m\u001b[0;34m)\u001b[0m\u001b[0;34m)\u001b[0m\u001b[0;34m\u001b[0m\u001b[0m\n\u001b[0m\u001b[1;32m    274\u001b[0m \u001b[0;34m\u001b[0m\u001b[0m\n\u001b[1;32m    275\u001b[0m     \u001b[0;32mdef\u001b[0m \u001b[0minspect_llvm\u001b[0m\u001b[0;34m(\u001b[0m\u001b[0mself\u001b[0m\u001b[0;34m,\u001b[0m \u001b[0msignature\u001b[0m\u001b[0;34m=\u001b[0m\u001b[0;32mNone\u001b[0m\u001b[0;34m)\u001b[0m\u001b[0;34m:\u001b[0m\u001b[0;34m\u001b[0m\u001b[0m\n",
      "\u001b[0;32m/Users/Espenel/anaconda/lib/python3.5/site-packages/numba/dispatcher.py\u001b[0m in \u001b[0;36mcompile\u001b[0;34m(self, sig)\u001b[0m\n\u001b[1;32m    456\u001b[0m                 \u001b[0;32mreturn\u001b[0m \u001b[0mcres\u001b[0m\u001b[0;34m.\u001b[0m\u001b[0mentry_point\u001b[0m\u001b[0;34m\u001b[0m\u001b[0m\n\u001b[1;32m    457\u001b[0m \u001b[0;34m\u001b[0m\u001b[0m\n\u001b[0;32m--> 458\u001b[0;31m             \u001b[0mcres\u001b[0m \u001b[0;34m=\u001b[0m \u001b[0mself\u001b[0m\u001b[0;34m.\u001b[0m\u001b[0m_compiler\u001b[0m\u001b[0;34m.\u001b[0m\u001b[0mcompile\u001b[0m\u001b[0;34m(\u001b[0m\u001b[0margs\u001b[0m\u001b[0;34m,\u001b[0m \u001b[0mreturn_type\u001b[0m\u001b[0;34m)\u001b[0m\u001b[0;34m\u001b[0m\u001b[0m\n\u001b[0m\u001b[1;32m    459\u001b[0m             \u001b[0mself\u001b[0m\u001b[0;34m.\u001b[0m\u001b[0madd_overload\u001b[0m\u001b[0;34m(\u001b[0m\u001b[0mcres\u001b[0m\u001b[0;34m)\u001b[0m\u001b[0;34m\u001b[0m\u001b[0m\n\u001b[1;32m    460\u001b[0m             \u001b[0mself\u001b[0m\u001b[0;34m.\u001b[0m\u001b[0m_cache\u001b[0m\u001b[0;34m.\u001b[0m\u001b[0msave_overload\u001b[0m\u001b[0;34m(\u001b[0m\u001b[0msig\u001b[0m\u001b[0;34m,\u001b[0m \u001b[0mcres\u001b[0m\u001b[0;34m)\u001b[0m\u001b[0;34m\u001b[0m\u001b[0m\n",
      "\u001b[0;32m/Users/Espenel/anaconda/lib/python3.5/site-packages/numba/dispatcher.py\u001b[0m in \u001b[0;36mcompile\u001b[0;34m(self, args, return_type)\u001b[0m\n\u001b[1;32m     77\u001b[0m                                       \u001b[0mimpl\u001b[0m\u001b[0;34m,\u001b[0m\u001b[0;34m\u001b[0m\u001b[0m\n\u001b[1;32m     78\u001b[0m                                       \u001b[0margs\u001b[0m\u001b[0;34m=\u001b[0m\u001b[0margs\u001b[0m\u001b[0;34m,\u001b[0m \u001b[0mreturn_type\u001b[0m\u001b[0;34m=\u001b[0m\u001b[0mreturn_type\u001b[0m\u001b[0;34m,\u001b[0m\u001b[0;34m\u001b[0m\u001b[0m\n\u001b[0;32m---> 79\u001b[0;31m                                       flags=flags, locals=self.locals)\n\u001b[0m\u001b[1;32m     80\u001b[0m         \u001b[0;31m# Check typing error if object mode is used\u001b[0m\u001b[0;34m\u001b[0m\u001b[0;34m\u001b[0m\u001b[0m\n\u001b[1;32m     81\u001b[0m         \u001b[0;32mif\u001b[0m \u001b[0mcres\u001b[0m\u001b[0;34m.\u001b[0m\u001b[0mtyping_error\u001b[0m \u001b[0;32mis\u001b[0m \u001b[0;32mnot\u001b[0m \u001b[0;32mNone\u001b[0m \u001b[0;32mand\u001b[0m \u001b[0;32mnot\u001b[0m \u001b[0mflags\u001b[0m\u001b[0;34m.\u001b[0m\u001b[0menable_pyobject\u001b[0m\u001b[0;34m:\u001b[0m\u001b[0;34m\u001b[0m\u001b[0m\n",
      "\u001b[0;32m/Users/Espenel/anaconda/lib/python3.5/site-packages/numba/compiler.py\u001b[0m in \u001b[0;36mcompile_extra\u001b[0;34m(typingctx, targetctx, func, args, return_type, flags, locals, library)\u001b[0m\n\u001b[1;32m    685\u001b[0m     pipeline = Pipeline(typingctx, targetctx, library,\n\u001b[1;32m    686\u001b[0m                         args, return_type, flags, locals)\n\u001b[0;32m--> 687\u001b[0;31m     \u001b[0;32mreturn\u001b[0m \u001b[0mpipeline\u001b[0m\u001b[0;34m.\u001b[0m\u001b[0mcompile_extra\u001b[0m\u001b[0;34m(\u001b[0m\u001b[0mfunc\u001b[0m\u001b[0;34m)\u001b[0m\u001b[0;34m\u001b[0m\u001b[0m\n\u001b[0m\u001b[1;32m    688\u001b[0m \u001b[0;34m\u001b[0m\u001b[0m\n\u001b[1;32m    689\u001b[0m \u001b[0;34m\u001b[0m\u001b[0m\n",
      "\u001b[0;32m/Users/Espenel/anaconda/lib/python3.5/site-packages/numba/compiler.py\u001b[0m in \u001b[0;36mcompile_extra\u001b[0;34m(self, func)\u001b[0m\n\u001b[1;32m    373\u001b[0m                 \u001b[0;32mraise\u001b[0m \u001b[0me\u001b[0m\u001b[0;34m\u001b[0m\u001b[0m\n\u001b[1;32m    374\u001b[0m \u001b[0;34m\u001b[0m\u001b[0m\n\u001b[0;32m--> 375\u001b[0;31m         \u001b[0;32mreturn\u001b[0m \u001b[0mself\u001b[0m\u001b[0;34m.\u001b[0m\u001b[0mcompile_bytecode\u001b[0m\u001b[0;34m(\u001b[0m\u001b[0mbc\u001b[0m\u001b[0;34m,\u001b[0m \u001b[0mfunc_attr\u001b[0m\u001b[0;34m=\u001b[0m\u001b[0mself\u001b[0m\u001b[0;34m.\u001b[0m\u001b[0mfunc_attr\u001b[0m\u001b[0;34m)\u001b[0m\u001b[0;34m\u001b[0m\u001b[0m\n\u001b[0m\u001b[1;32m    376\u001b[0m \u001b[0;34m\u001b[0m\u001b[0m\n\u001b[1;32m    377\u001b[0m     def compile_bytecode(self, bc, lifted=(), lifted_from=None,\n",
      "\u001b[0;32m/Users/Espenel/anaconda/lib/python3.5/site-packages/numba/compiler.py\u001b[0m in \u001b[0;36mcompile_bytecode\u001b[0;34m(self, bc, lifted, lifted_from, func_attr)\u001b[0m\n\u001b[1;32m    382\u001b[0m         \u001b[0mself\u001b[0m\u001b[0;34m.\u001b[0m\u001b[0mlifted_from\u001b[0m \u001b[0;34m=\u001b[0m \u001b[0mlifted_from\u001b[0m\u001b[0;34m\u001b[0m\u001b[0m\n\u001b[1;32m    383\u001b[0m         \u001b[0mself\u001b[0m\u001b[0;34m.\u001b[0m\u001b[0mfunc_attr\u001b[0m \u001b[0;34m=\u001b[0m \u001b[0mfunc_attr\u001b[0m\u001b[0;34m\u001b[0m\u001b[0m\n\u001b[0;32m--> 384\u001b[0;31m         \u001b[0;32mreturn\u001b[0m \u001b[0mself\u001b[0m\u001b[0;34m.\u001b[0m\u001b[0m_compile_bytecode\u001b[0m\u001b[0;34m(\u001b[0m\u001b[0;34m)\u001b[0m\u001b[0;34m\u001b[0m\u001b[0m\n\u001b[0m\u001b[1;32m    385\u001b[0m \u001b[0;34m\u001b[0m\u001b[0m\n\u001b[1;32m    386\u001b[0m     \u001b[0;32mdef\u001b[0m \u001b[0mcompile_internal\u001b[0m\u001b[0;34m(\u001b[0m\u001b[0mself\u001b[0m\u001b[0;34m,\u001b[0m \u001b[0mbc\u001b[0m\u001b[0;34m,\u001b[0m \u001b[0mfunc_attr\u001b[0m\u001b[0;34m=\u001b[0m\u001b[0mDEFAULT_FUNCTION_ATTRIBUTES\u001b[0m\u001b[0;34m)\u001b[0m\u001b[0;34m:\u001b[0m\u001b[0;34m\u001b[0m\u001b[0m\n",
      "\u001b[0;32m/Users/Espenel/anaconda/lib/python3.5/site-packages/numba/compiler.py\u001b[0m in \u001b[0;36m_compile_bytecode\u001b[0;34m(self)\u001b[0m\n\u001b[1;32m    666\u001b[0m \u001b[0;34m\u001b[0m\u001b[0m\n\u001b[1;32m    667\u001b[0m         \u001b[0mpm\u001b[0m\u001b[0;34m.\u001b[0m\u001b[0mfinalize\u001b[0m\u001b[0;34m(\u001b[0m\u001b[0;34m)\u001b[0m\u001b[0;34m\u001b[0m\u001b[0m\n\u001b[0;32m--> 668\u001b[0;31m         \u001b[0mres\u001b[0m \u001b[0;34m=\u001b[0m \u001b[0mpm\u001b[0m\u001b[0;34m.\u001b[0m\u001b[0mrun\u001b[0m\u001b[0;34m(\u001b[0m\u001b[0mself\u001b[0m\u001b[0;34m.\u001b[0m\u001b[0mstatus\u001b[0m\u001b[0;34m)\u001b[0m\u001b[0;34m\u001b[0m\u001b[0m\n\u001b[0m\u001b[1;32m    669\u001b[0m         \u001b[0;32mif\u001b[0m \u001b[0mres\u001b[0m \u001b[0;32mis\u001b[0m \u001b[0;32mnot\u001b[0m \u001b[0;32mNone\u001b[0m\u001b[0;34m:\u001b[0m\u001b[0;34m\u001b[0m\u001b[0m\n\u001b[1;32m    670\u001b[0m             \u001b[0;31m# Early pipeline completion\u001b[0m\u001b[0;34m\u001b[0m\u001b[0;34m\u001b[0m\u001b[0m\n",
      "\u001b[0;32m/Users/Espenel/anaconda/lib/python3.5/site-packages/numba/compiler.py\u001b[0m in \u001b[0;36mrun\u001b[0;34m(self, status)\u001b[0m\n\u001b[1;32m    252\u001b[0m                     \u001b[0;31m# No more fallback pipelines?\u001b[0m\u001b[0;34m\u001b[0m\u001b[0;34m\u001b[0m\u001b[0m\n\u001b[1;32m    253\u001b[0m                     \u001b[0;32mif\u001b[0m \u001b[0mis_final_pipeline\u001b[0m\u001b[0;34m:\u001b[0m\u001b[0;34m\u001b[0m\u001b[0m\n\u001b[0;32m--> 254\u001b[0;31m                         \u001b[0;32mraise\u001b[0m \u001b[0mpatched_exception\u001b[0m\u001b[0;34m\u001b[0m\u001b[0m\n\u001b[0m\u001b[1;32m    255\u001b[0m                     \u001b[0;31m# Go to next fallback pipeline\u001b[0m\u001b[0;34m\u001b[0m\u001b[0;34m\u001b[0m\u001b[0m\n\u001b[1;32m    256\u001b[0m                     \u001b[0;32melse\u001b[0m\u001b[0;34m:\u001b[0m\u001b[0;34m\u001b[0m\u001b[0m\n",
      "\u001b[0;32m/Users/Espenel/anaconda/lib/python3.5/site-packages/numba/compiler.py\u001b[0m in \u001b[0;36mrun\u001b[0;34m(self, status)\u001b[0m\n\u001b[1;32m    244\u001b[0m                 \u001b[0;32mtry\u001b[0m\u001b[0;34m:\u001b[0m\u001b[0;34m\u001b[0m\u001b[0m\n\u001b[1;32m    245\u001b[0m                     \u001b[0mevent\u001b[0m\u001b[0;34m(\u001b[0m\u001b[0mstage_name\u001b[0m\u001b[0;34m)\u001b[0m\u001b[0;34m\u001b[0m\u001b[0m\n\u001b[0;32m--> 246\u001b[0;31m                     \u001b[0mstage\u001b[0m\u001b[0;34m(\u001b[0m\u001b[0;34m)\u001b[0m\u001b[0;34m\u001b[0m\u001b[0m\n\u001b[0m\u001b[1;32m    247\u001b[0m                 \u001b[0;32mexcept\u001b[0m \u001b[0m_EarlyPipelineCompletion\u001b[0m \u001b[0;32mas\u001b[0m \u001b[0me\u001b[0m\u001b[0;34m:\u001b[0m\u001b[0;34m\u001b[0m\u001b[0m\n\u001b[1;32m    248\u001b[0m                     \u001b[0;32mreturn\u001b[0m \u001b[0me\u001b[0m\u001b[0;34m.\u001b[0m\u001b[0mresult\u001b[0m\u001b[0;34m\u001b[0m\u001b[0m\n",
      "\u001b[0;32m/Users/Espenel/anaconda/lib/python3.5/site-packages/numba/compiler.py\u001b[0m in \u001b[0;36mstage_analyze_bytecode\u001b[0;34m(self)\u001b[0m\n\u001b[1;32m    397\u001b[0m         \u001b[0mAnalyze\u001b[0m \u001b[0mbytecode\u001b[0m \u001b[0;32mand\u001b[0m \u001b[0mtranslating\u001b[0m \u001b[0mto\u001b[0m \u001b[0mNumba\u001b[0m \u001b[0mIR\u001b[0m\u001b[0;34m\u001b[0m\u001b[0m\n\u001b[1;32m    398\u001b[0m         \"\"\"\n\u001b[0;32m--> 399\u001b[0;31m         \u001b[0mself\u001b[0m\u001b[0;34m.\u001b[0m\u001b[0minterp\u001b[0m \u001b[0;34m=\u001b[0m \u001b[0mtranslate_stage\u001b[0m\u001b[0;34m(\u001b[0m\u001b[0mself\u001b[0m\u001b[0;34m.\u001b[0m\u001b[0mbc\u001b[0m\u001b[0;34m)\u001b[0m\u001b[0;34m\u001b[0m\u001b[0m\n\u001b[0m\u001b[1;32m    400\u001b[0m         \u001b[0mself\u001b[0m\u001b[0;34m.\u001b[0m\u001b[0mnargs\u001b[0m \u001b[0;34m=\u001b[0m \u001b[0mself\u001b[0m\u001b[0;34m.\u001b[0m\u001b[0minterp\u001b[0m\u001b[0;34m.\u001b[0m\u001b[0marg_count\u001b[0m\u001b[0;34m\u001b[0m\u001b[0m\n\u001b[1;32m    401\u001b[0m         \u001b[0;32mif\u001b[0m \u001b[0;32mnot\u001b[0m \u001b[0mself\u001b[0m\u001b[0;34m.\u001b[0m\u001b[0margs\u001b[0m \u001b[0;32mand\u001b[0m \u001b[0mself\u001b[0m\u001b[0;34m.\u001b[0m\u001b[0mflags\u001b[0m\u001b[0;34m.\u001b[0m\u001b[0mforce_pyobject\u001b[0m\u001b[0;34m:\u001b[0m\u001b[0;34m\u001b[0m\u001b[0m\n",
      "\u001b[0;32m/Users/Espenel/anaconda/lib/python3.5/site-packages/numba/compiler.py\u001b[0m in \u001b[0;36mtranslate_stage\u001b[0;34m(bytecode)\u001b[0m\n\u001b[1;32m    757\u001b[0m \u001b[0;34m\u001b[0m\u001b[0m\n\u001b[1;32m    758\u001b[0m \u001b[0;32mdef\u001b[0m \u001b[0mtranslate_stage\u001b[0m\u001b[0;34m(\u001b[0m\u001b[0mbytecode\u001b[0m\u001b[0;34m)\u001b[0m\u001b[0;34m:\u001b[0m\u001b[0;34m\u001b[0m\u001b[0m\n\u001b[0;32m--> 759\u001b[0;31m     \u001b[0minterp\u001b[0m \u001b[0;34m=\u001b[0m \u001b[0minterpreter\u001b[0m\u001b[0;34m.\u001b[0m\u001b[0mInterpreter\u001b[0m\u001b[0;34m(\u001b[0m\u001b[0mbytecode\u001b[0m\u001b[0;34m=\u001b[0m\u001b[0mbytecode\u001b[0m\u001b[0;34m)\u001b[0m\u001b[0;34m\u001b[0m\u001b[0m\n\u001b[0m\u001b[1;32m    760\u001b[0m \u001b[0;34m\u001b[0m\u001b[0m\n\u001b[1;32m    761\u001b[0m     \u001b[0;32mif\u001b[0m \u001b[0mconfig\u001b[0m\u001b[0;34m.\u001b[0m\u001b[0mDUMP_CFG\u001b[0m\u001b[0;34m:\u001b[0m\u001b[0;34m\u001b[0m\u001b[0m\n",
      "\u001b[0;32m/Users/Espenel/anaconda/lib/python3.5/site-packages/numba/interpreter.py\u001b[0m in \u001b[0;36m__init__\u001b[0;34m(self, bytecode)\u001b[0m\n\u001b[1;32m    107\u001b[0m         \u001b[0mself\u001b[0m\u001b[0;34m.\u001b[0m\u001b[0mblock_entry_vars\u001b[0m \u001b[0;34m=\u001b[0m \u001b[0;34m{\u001b[0m\u001b[0;34m}\u001b[0m\u001b[0;34m\u001b[0m\u001b[0m\n\u001b[1;32m    108\u001b[0m \u001b[0;34m\u001b[0m\u001b[0m\n\u001b[0;32m--> 109\u001b[0;31m         \u001b[0mself\u001b[0m\u001b[0;34m.\u001b[0m\u001b[0mreset\u001b[0m\u001b[0;34m(\u001b[0m\u001b[0;34m)\u001b[0m\u001b[0;34m\u001b[0m\u001b[0m\n\u001b[0m\u001b[1;32m    110\u001b[0m \u001b[0;34m\u001b[0m\u001b[0m\n\u001b[1;32m    111\u001b[0m     \u001b[0;32mdef\u001b[0m \u001b[0mreset\u001b[0m\u001b[0;34m(\u001b[0m\u001b[0mself\u001b[0m\u001b[0;34m)\u001b[0m\u001b[0;34m:\u001b[0m\u001b[0;34m\u001b[0m\u001b[0m\n",
      "\u001b[0;32m/Users/Espenel/anaconda/lib/python3.5/site-packages/numba/interpreter.py\u001b[0m in \u001b[0;36mreset\u001b[0;34m(self)\u001b[0m\n\u001b[1;32m    122\u001b[0m         \u001b[0;31m# Data flow analysis\u001b[0m\u001b[0;34m\u001b[0m\u001b[0;34m\u001b[0m\u001b[0m\n\u001b[1;32m    123\u001b[0m         \u001b[0mself\u001b[0m\u001b[0;34m.\u001b[0m\u001b[0mdfa\u001b[0m \u001b[0;34m=\u001b[0m \u001b[0mdataflow\u001b[0m\u001b[0;34m.\u001b[0m\u001b[0mDataFlowAnalysis\u001b[0m\u001b[0;34m(\u001b[0m\u001b[0mself\u001b[0m\u001b[0;34m.\u001b[0m\u001b[0mcfa\u001b[0m\u001b[0;34m)\u001b[0m\u001b[0;34m\u001b[0m\u001b[0m\n\u001b[0;32m--> 124\u001b[0;31m         \u001b[0mself\u001b[0m\u001b[0;34m.\u001b[0m\u001b[0mdfa\u001b[0m\u001b[0;34m.\u001b[0m\u001b[0mrun\u001b[0m\u001b[0;34m(\u001b[0m\u001b[0;34m)\u001b[0m\u001b[0;34m\u001b[0m\u001b[0m\n\u001b[0m\u001b[1;32m    125\u001b[0m         \u001b[0;31m# Constant inference\u001b[0m\u001b[0;34m\u001b[0m\u001b[0;34m\u001b[0m\u001b[0m\n\u001b[1;32m    126\u001b[0m         \u001b[0mself\u001b[0m\u001b[0;34m.\u001b[0m\u001b[0mconsts\u001b[0m \u001b[0;34m=\u001b[0m \u001b[0mconsts\u001b[0m\u001b[0;34m.\u001b[0m\u001b[0mConstantInference\u001b[0m\u001b[0;34m(\u001b[0m\u001b[0mself\u001b[0m\u001b[0;34m)\u001b[0m\u001b[0;34m\u001b[0m\u001b[0m\n",
      "\u001b[0;32m/Users/Espenel/anaconda/lib/python3.5/site-packages/numba/dataflow.py\u001b[0m in \u001b[0;36mrun\u001b[0;34m(self)\u001b[0m\n\u001b[1;32m     25\u001b[0m     \u001b[0;32mdef\u001b[0m \u001b[0mrun\u001b[0m\u001b[0;34m(\u001b[0m\u001b[0mself\u001b[0m\u001b[0;34m)\u001b[0m\u001b[0;34m:\u001b[0m\u001b[0;34m\u001b[0m\u001b[0m\n\u001b[1;32m     26\u001b[0m         \u001b[0;32mfor\u001b[0m \u001b[0mblk\u001b[0m \u001b[0;32min\u001b[0m \u001b[0mself\u001b[0m\u001b[0;34m.\u001b[0m\u001b[0mcfa\u001b[0m\u001b[0;34m.\u001b[0m\u001b[0miterliveblocks\u001b[0m\u001b[0;34m(\u001b[0m\u001b[0;34m)\u001b[0m\u001b[0;34m:\u001b[0m\u001b[0;34m\u001b[0m\u001b[0m\n\u001b[0;32m---> 27\u001b[0;31m             \u001b[0mself\u001b[0m\u001b[0;34m.\u001b[0m\u001b[0minfos\u001b[0m\u001b[0;34m[\u001b[0m\u001b[0mblk\u001b[0m\u001b[0;34m.\u001b[0m\u001b[0moffset\u001b[0m\u001b[0;34m]\u001b[0m \u001b[0;34m=\u001b[0m \u001b[0mself\u001b[0m\u001b[0;34m.\u001b[0m\u001b[0mrun_on_block\u001b[0m\u001b[0;34m(\u001b[0m\u001b[0mblk\u001b[0m\u001b[0;34m)\u001b[0m\u001b[0;34m\u001b[0m\u001b[0m\n\u001b[0m\u001b[1;32m     28\u001b[0m \u001b[0;34m\u001b[0m\u001b[0m\n\u001b[1;32m     29\u001b[0m     \u001b[0;32mdef\u001b[0m \u001b[0mrun_on_block\u001b[0m\u001b[0;34m(\u001b[0m\u001b[0mself\u001b[0m\u001b[0;34m,\u001b[0m \u001b[0mblk\u001b[0m\u001b[0;34m)\u001b[0m\u001b[0;34m:\u001b[0m\u001b[0;34m\u001b[0m\u001b[0m\n",
      "\u001b[0;32m/Users/Espenel/anaconda/lib/python3.5/site-packages/numba/dataflow.py\u001b[0m in \u001b[0;36mrun_on_block\u001b[0;34m(self, blk)\u001b[0m\n\u001b[1;32m     69\u001b[0m         \u001b[0;32mfor\u001b[0m \u001b[0moffset\u001b[0m \u001b[0;32min\u001b[0m \u001b[0mblk\u001b[0m\u001b[0;34m:\u001b[0m\u001b[0;34m\u001b[0m\u001b[0m\n\u001b[1;32m     70\u001b[0m             \u001b[0minst\u001b[0m \u001b[0;34m=\u001b[0m \u001b[0mself\u001b[0m\u001b[0;34m.\u001b[0m\u001b[0mbytecode\u001b[0m\u001b[0;34m[\u001b[0m\u001b[0moffset\u001b[0m\u001b[0;34m]\u001b[0m\u001b[0;34m\u001b[0m\u001b[0m\n\u001b[0;32m---> 71\u001b[0;31m             \u001b[0mself\u001b[0m\u001b[0;34m.\u001b[0m\u001b[0mdispatch\u001b[0m\u001b[0;34m(\u001b[0m\u001b[0minfo\u001b[0m\u001b[0;34m,\u001b[0m \u001b[0minst\u001b[0m\u001b[0;34m)\u001b[0m\u001b[0;34m\u001b[0m\u001b[0m\n\u001b[0m\u001b[1;32m     72\u001b[0m         \u001b[0;32mreturn\u001b[0m \u001b[0minfo\u001b[0m\u001b[0;34m\u001b[0m\u001b[0m\n\u001b[1;32m     73\u001b[0m \u001b[0;34m\u001b[0m\u001b[0m\n",
      "\u001b[0;32m/Users/Espenel/anaconda/lib/python3.5/site-packages/numba/dataflow.py\u001b[0m in \u001b[0;36mdispatch\u001b[0;34m(self, info, inst)\u001b[0m\n\u001b[1;32m     78\u001b[0m     \u001b[0;32mdef\u001b[0m \u001b[0mdispatch\u001b[0m\u001b[0;34m(\u001b[0m\u001b[0mself\u001b[0m\u001b[0;34m,\u001b[0m \u001b[0minfo\u001b[0m\u001b[0;34m,\u001b[0m \u001b[0minst\u001b[0m\u001b[0;34m)\u001b[0m\u001b[0;34m:\u001b[0m\u001b[0;34m\u001b[0m\u001b[0m\n\u001b[1;32m     79\u001b[0m         \u001b[0mfname\u001b[0m \u001b[0;34m=\u001b[0m \u001b[0;34m\"op_%s\"\u001b[0m \u001b[0;34m%\u001b[0m \u001b[0minst\u001b[0m\u001b[0;34m.\u001b[0m\u001b[0mopname\u001b[0m\u001b[0;34m.\u001b[0m\u001b[0mreplace\u001b[0m\u001b[0;34m(\u001b[0m\u001b[0;34m'+'\u001b[0m\u001b[0;34m,\u001b[0m \u001b[0;34m'_'\u001b[0m\u001b[0;34m)\u001b[0m\u001b[0;34m\u001b[0m\u001b[0m\n\u001b[0;32m---> 80\u001b[0;31m         \u001b[0mfn\u001b[0m \u001b[0;34m=\u001b[0m \u001b[0mgetattr\u001b[0m\u001b[0;34m(\u001b[0m\u001b[0mself\u001b[0m\u001b[0;34m,\u001b[0m \u001b[0mfname\u001b[0m\u001b[0;34m)\u001b[0m\u001b[0;34m\u001b[0m\u001b[0m\n\u001b[0m\u001b[1;32m     81\u001b[0m         \u001b[0mfn\u001b[0m\u001b[0;34m(\u001b[0m\u001b[0minfo\u001b[0m\u001b[0;34m,\u001b[0m \u001b[0minst\u001b[0m\u001b[0;34m)\u001b[0m\u001b[0;34m\u001b[0m\u001b[0m\n\u001b[1;32m     82\u001b[0m \u001b[0;34m\u001b[0m\u001b[0m\n",
      "\u001b[0;31mAttributeError\u001b[0m: Failed at object (analyzing bytecode)\n'DataFlowAnalysis' object has no attribute 'op_STORE_DEREF'"
     ]
    }
   ],
   "source": [
    "cProfile.run('find_blob_DoG(img_divide_Red[:,:,0])')"
   ]
  },
  {
   "cell_type": "code",
   "execution_count": 20,
   "metadata": {
    "collapsed": false
   },
   "outputs": [
    {
     "name": "stdout",
     "output_type": "stream",
     "text": [
      "The line_profiler extension is already loaded. To reload it, use:\n",
      "  %reload_ext line_profiler\n"
     ]
    }
   ],
   "source": [
    "%load_ext line_profiler"
   ]
  },
  {
   "cell_type": "code",
   "execution_count": 31,
   "metadata": {
    "collapsed": false
   },
   "outputs": [],
   "source": [
    "%lprun -f find_blob_DoG find_blob_DoG(img_divide_Red[:,:,0])"
   ]
  },
  {
   "cell_type": "code",
   "execution_count": 17,
   "metadata": {
    "collapsed": true
   },
   "outputs": [],
   "source": [
    "from numba import jit"
   ]
  },
  {
   "cell_type": "code",
   "execution_count": null,
   "metadata": {
    "collapsed": true
   },
   "outputs": [],
   "source": []
  }
 ],
 "metadata": {
  "kernelspec": {
   "display_name": "Python 3",
   "language": "python",
   "name": "python3"
  },
  "language_info": {
   "codemirror_mode": {
    "name": "ipython",
    "version": 3
   },
   "file_extension": ".py",
   "mimetype": "text/x-python",
   "name": "python",
   "nbconvert_exporter": "python",
   "pygments_lexer": "ipython3",
   "version": "3.5.1"
  }
 },
 "nbformat": 4,
 "nbformat_minor": 0
}
