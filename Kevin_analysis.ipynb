{
 "cells": [
  {
   "cell_type": "code",
   "execution_count": 1,
   "metadata": {
    "collapsed": true
   },
   "outputs": [],
   "source": [
    "%matplotlib inline"
   ]
  },
  {
   "cell_type": "code",
   "execution_count": 2,
   "metadata": {
    "collapsed": true
   },
   "outputs": [],
   "source": [
    "import numpy as np\n",
    "from skimage import io, img_as_ubyte\n",
    "import matplotlib.pyplot as plt\n",
    "from skimage.filters import sobel, median\n",
    "from skimage.morphology import disk\n",
    "from skimage.exposure import rescale_intensity, adjust_log, equalize_hist\n",
    "from skimage.feature import blob_dog, blob_log\n",
    "from math import *\n",
    "from scipy.ndimage import gaussian_filter\n",
    "from scipy.signal import medfilt2d\n",
    "from skimage.feature import peak_local_max\n",
    "import itertools as itt\n",
    "from numpy import arccos\n",
    "import math\n",
    "from math import sqrt, hypot, log\n",
    "import os"
   ]
  },
  {
   "cell_type": "code",
   "execution_count": 1,
   "metadata": {
    "collapsed": false
   },
   "outputs": [
    {
     "ename": "NameError",
     "evalue": "name 'np' is not defined",
     "output_type": "error",
     "traceback": [
      "\u001b[0;31m---------------------------------------------------------------------------\u001b[0m",
      "\u001b[0;31mNameError\u001b[0m                                 Traceback (most recent call last)",
      "\u001b[0;32m<ipython-input-1-c55c44366e1f>\u001b[0m in \u001b[0;36m<module>\u001b[0;34m()\u001b[0m\n\u001b[0;32m----> 1\u001b[0;31m \u001b[0mimage\u001b[0m \u001b[0;34m=\u001b[0m\u001b[0mnp\u001b[0m\u001b[0;34m.\u001b[0m\u001b[0mload\u001b[0m\u001b[0;34m(\u001b[0m\u001b[0;34m\"second_bis1.npz\"\u001b[0m\u001b[0;34m)\u001b[0m\u001b[0;34m\u001b[0m\u001b[0m\n\u001b[0m\u001b[1;32m      2\u001b[0m \u001b[0mimage2\u001b[0m \u001b[0;34m=\u001b[0m \u001b[0mnp\u001b[0m\u001b[0;34m.\u001b[0m\u001b[0mload\u001b[0m\u001b[0;34m(\u001b[0m\u001b[0;34m\"second_bis2.npz\"\u001b[0m\u001b[0;34m)\u001b[0m\u001b[0;34m\u001b[0m\u001b[0m\n",
      "\u001b[0;31mNameError\u001b[0m: name 'np' is not defined"
     ]
    }
   ],
   "source": [
    "image =np.load(\"second_bis6.npz\")"
   ]
  },
  {
   "cell_type": "code",
   "execution_count": 10,
   "metadata": {
    "collapsed": false
   },
   "outputs": [],
   "source": [
    "img = image['data'][:,:,1,:]\n",
    "#print(coins.shape)\n",
    "#hist = np.histogram(coins, bins=np.arange(0, 1200))\n",
    "\n",
    "#fig, (ax1, ax2) = plt.subplots(1, 2, figsize=(15, 6))\n",
    "#ax1.imshow(coins, cmap=plt.cm.gray, interpolation='nearest')\n",
    "#ax1.axis('off')\n",
    "#ax2.plot(hist[1][:-1], hist[0], lw=2)\n",
    "#ax2.set_title('histogram of grey values')"
   ]
  },
  {
   "cell_type": "code",
   "execution_count": 11,
   "metadata": {
    "collapsed": true
   },
   "outputs": [],
   "source": [
    "del image"
   ]
  },
  {
   "cell_type": "code",
   "execution_count": null,
   "metadata": {
    "collapsed": true
   },
   "outputs": [],
   "source": [
    "N = np.zeros(Z.shape, dtype=int)\n",
    "N[1:-1,1:-1] += (Z[ :-2, :-2] + Z[ :-2,1:-1] + Z[ :-2,2:] +\n",
    "                 Z[1:-1, :-2]                + Z[1:-1,2:] +\n",
    "                 Z[2:  , :-2] + Z[2:  ,1:-1] + Z[2:  ,2:])\n"
   ]
  },
  {
   "cell_type": "code",
   "execution_count": null,
   "metadata": {
    "collapsed": false
   },
   "outputs": [],
   "source": [
    "def save_img_jpeg(image, path, **kwargs):\n",
    "\n",
    "    timeframes = kwargs.pop('timeframes', [])\n",
    "    colors = kwargs.pop('colors', [])\n",
    "    \n",
    "    for j in colors:\n",
    "        for i in timeframes:\n",
    "            img = ((image[:,:,j, i]/image[:,:,j, i].max())*255).astype(\"uint8\")\n",
    "            if j == 0:\n",
    "                io.imsave(\"{}/BF{}.jpg\".format(path, i), img)\n",
    "            elif j == 1:\n",
    "                io.imsave(\"{}/Green{}.jpg\".format(path, i), img)\n",
    "            elif j == 2:\n",
    "                io.imsave(\"{}/Red{}.jpg\".format(path, i), img)"
   ]
  },
  {
   "cell_type": "code",
   "execution_count": null,
   "metadata": {
    "collapsed": false
   },
   "outputs": [],
   "source": [
    "timeframes = [0, 12, 24, 36, 48,60, 72, 84, 96]\n",
    "colors = [0,1,2]\n",
    "\n",
    "save_img_jpeg(image['data'], \"Tile6\", colors = colors, timeframes=timeframes)"
   ]
  },
  {
   "cell_type": "code",
   "execution_count": null,
   "metadata": {
    "collapsed": false
   },
   "outputs": [],
   "source": [
    "fig, (axes) = plt.subplots(1,2, figsize=(20, 8))\n",
    "\n",
    "axes[0].imshow(img[:,:,0], cmap='gray',interpolation='nearest', aspect='auto')\n",
    "axes[0].axis(\"off\")\n",
    "axes[0].autoscale_view('tight')\n",
    "\n",
    "axes[0].plot([0,2560], [1000, 1000], 'k-', color='r')\n",
    "axes[1].plot(img[:,:,0][1000,:])\n",
    "axes[1].autoscale_view('tight')"
   ]
  },
  {
   "cell_type": "code",
   "execution_count": null,
   "metadata": {
    "collapsed": true
   },
   "outputs": [],
   "source": [
    "def Av_Img(image):\n",
    "    img_average = np.mean(image, axis = 2).astype('uint16')\n",
    "    img_ave_median = median(img_average, disk(300))\n",
    "    return np.divide(image, img_ave_median[:,:,np.newaxis])\n",
    "    "
   ]
  },
  {
   "cell_type": "code",
   "execution_count": null,
   "metadata": {
    "collapsed": true
   },
   "outputs": [],
   "source": [
    "img_av = Av_Img(img)"
   ]
  },
  {
   "cell_type": "code",
   "execution_count": null,
   "metadata": {
    "collapsed": false
   },
   "outputs": [],
   "source": [
    "print(Av_Img.shape)"
   ]
  },
  {
   "cell_type": "code",
   "execution_count": null,
   "metadata": {
    "collapsed": false
   },
   "outputs": [],
   "source": [
    "fig, (axes) = plt.subplots(1,2, figsize=(20, 8))\n",
    "\n",
    "axes[0].imshow(img_divide, cmap='gray',interpolation='nearest')\n",
    "axes[0].axis(\"off\")\n",
    "axes[0].autoscale_view('tight')\n",
    "\n",
    "axes[0].plot([0,2560], [1000, 1000], 'k-', color='r')\n",
    "axes[1].plot(img_divide[1000,:])\n",
    "axes[1].autoscale_view('tight')"
   ]
  },
  {
   "cell_type": "code",
   "execution_count": 14,
   "metadata": {
    "collapsed": false
   },
   "outputs": [],
   "source": [
    "img = np.dstack((img1, img2))"
   ]
  },
  {
   "cell_type": "code",
   "execution_count": 15,
   "metadata": {
    "collapsed": false
   },
   "outputs": [
    {
     "name": "stdout",
     "output_type": "stream",
     "text": [
      "(2160, 2560, 194)\n"
     ]
    }
   ],
   "source": [
    "print(img.shape)"
   ]
  },
  {
   "cell_type": "code",
   "execution_count": 16,
   "metadata": {
    "collapsed": false
   },
   "outputs": [],
   "source": [
    "img_average = np.mean(img, axis = 2).astype('uint16')"
   ]
  },
  {
   "cell_type": "code",
   "execution_count": null,
   "metadata": {
    "collapsed": false
   },
   "outputs": [],
   "source": [
    "test= medfilt2d(img_average.astype(float), 1003)"
   ]
  },
  {
   "cell_type": "code",
   "execution_count": null,
   "metadata": {
    "collapsed": false
   },
   "outputs": [],
   "source": [
    "plt.imshow(test, cmap='gray',interpolation='nearest')"
   ]
  },
  {
   "cell_type": "code",
   "execution_count": null,
   "metadata": {
    "collapsed": false
   },
   "outputs": [],
   "source": [
    "%time median(img_average, disk(500))"
   ]
  },
  {
   "cell_type": "code",
   "execution_count": null,
   "metadata": {
    "collapsed": false
   },
   "outputs": [],
   "source": [
    "def medi(Z):\n",
    "    N = np.zeros(Z.shape, dtype=float)\n",
    "    N[1:-1,1:-1] += ((Z[ :-2, :-2] + Z[ :-2,1:-1] + Z[ :-2,2:] +\n",
    "                     Z[1:-1, :-2]                + Z[1:-1,2:] +\n",
    "                     Z[2:  , :-2] + Z[2:  ,1:-1] + Z[2:  ,2:])/8)\n",
    "    return N\n"
   ]
  },
  {
   "cell_type": "code",
   "execution_count": null,
   "metadata": {
    "collapsed": false
   },
   "outputs": [],
   "source": [
    "Z = img_average.astype(int)\n",
    "\n",
    "%time medi(Z)"
   ]
  },
  {
   "cell_type": "code",
   "execution_count": 18,
   "metadata": {
    "collapsed": false
   },
   "outputs": [],
   "source": [
    "img_divide = np.divide(img[:,:,0], img_average)"
   ]
  },
  {
   "cell_type": "code",
   "execution_count": null,
   "metadata": {
    "collapsed": true
   },
   "outputs": [],
   "source": []
  },
  {
   "cell_type": "code",
   "execution_count": null,
   "metadata": {
    "collapsed": true
   },
   "outputs": [],
   "source": [
    "def find_max(image, x):\n",
    "    J = np.zeros(image.shape, dtype=bool)\n",
    "    J[1:-1,1:-1,x] = ((image[1:-1,1:-1,x] > image[ :-2, :-2,x]) & (image[1:-1,1:-1,x] > image[ :-2, 1:-1,x]) & (image[1:-1,1:-1,x] > image[ :-2,2:,x]) &\n",
    "                      (image[1:-1,1:-1,x] > image[1:-1, :-2,x]) &                                      (image[1:-1,1:-1,x] > image[1:-1,2:,x]) &\n",
    "                      (image[1:-1,1:-1,x] > image[2:  , :-2,x]) & (image[1:-1,1:-1,x] > image[2:  , 1:-1,x]) & (image[1:-1,1:-1,x] > image[2:  ,2:,x]))\n",
    "    \n",
    "    J[1:-1,1:-1,(x-1)] = ((image[1:-1,1:-1,x] > image[ :-2, :-2,(x-1)]) & (image[1:-1,1:-1,x] > image[ :-2, 1:-1,(x-1)]) & (image[1:-1,1:-1,x] > image[ :-2,2:,(x-1)]) &\n",
    "                      (image[1:-1,1:-1,x] > image[1:-1, :-2,(x-1)]) & (image[1:-1,1:-1,x] > image[1:-1, 1:-1,(x-1)]) & (image[1:-1,1:-1,x] > image[1:-1,2:,(x-1)]) &\n",
    "                      (image[1:-1,1:-1,x] > image[2:  , :-2,(x-1)]) & (image[1:-1,1:-1,x] > image[2:  , 1:-1,(x-1)]) & (image[1:-1,1:-1,x] > image[2:  ,2:,(x-1)]))\n",
    "    \n",
    "    J[1:-1,1:-1,(x+1)] = ((image[1:-1,1:-1,x] > image[ :-2, :-2,(x+1)]) & (image[1:-1,1:-1,x] > image[ :-2, 1:-1,(x+1)]) & (image[1:-1,1:-1,x] > image[ :-2,2:,(x+1)]) &\n",
    "                      (image[1:-1,1:-1,x] > image[1:-1, :-2,(x+1)]) & (image[1:-1,1:-1,x] > image[1:-1, 1:-1,(x+1)]) & (image[1:-1,1:-1,x] > image[1:-1,2:,(x+1)]) &\n",
    "                      (image[1:-1,1:-1,x] > image[2:  , :-2,(x+1)]) & (image[1:-1,1:-1,x] > image[2:  , 1:-1,(x+1)]) & (image[1:-1,1:-1,x] > image[2:  ,2:,(x+1)]))\n",
    "    \n",
    "    return J[:,:,x] & J[:,:,x-1] & J[:,:,x+1]"
   ]
  },
  {
   "cell_type": "code",
   "execution_count": null,
   "metadata": {
    "collapsed": false
   },
   "outputs": [],
   "source": [
    "def find_blob_DoG(image):\n",
    "\n",
    "    min_sigma=5\n",
    "    max_sigma=50\n",
    "    sigma_ratio=1.6\n",
    "\n",
    "    #image = img_divide\n",
    "\n",
    "    k = int(log(float(max_sigma) / min_sigma, sigma_ratio)) + 1\n",
    "\n",
    "        # a geometric progression of standard deviations for gaussian kernels\n",
    "    sigma_list = np.array([min_sigma * (sigma_ratio ** i)for i in range(k + 1)])\n",
    "\n",
    "    gaussian_images = [gaussian_filter(image, s) for s in sigma_list]\n",
    "\n",
    "        # computing difference between two successive Gaussian blurred images\n",
    "        # multiplying with standard deviation provides scale invariance\n",
    "    dog_images = [(gaussian_images[i] - gaussian_images[i + 1])* sigma_list[i] for i in range(k)]\n",
    "    image_cube = np.dstack(dog_images)\n",
    "\n",
    "    #print(image.max())\n",
    "\n",
    "        # local_maxima = get_local_maxima(image_cube, threshold)\n",
    "    #local_maxima_scikit = peak_local_max(image_cube, footprint=np.ones((3, 3, 3)),exclude_border=False)\n",
    "    \n",
    "    #lm = local_maxima_scikit.astype(np.float64)\n",
    "    #lm[:, 2] = sigma_list[local_maxima_scikit[:, 2]]\n",
    "\n",
    "    #print(lm)\n",
    "\n",
    "    #loca_extrema = find_extrema(image_cube, 9)\n",
    "    maxima = []\n",
    "    for n in range(1, 4):\n",
    "        maxima.append(find_max(image_cube, n))\n",
    "    arr = np.array(maxima)    \n",
    "\n",
    "\n",
    "    arr &= image > 0.9\n",
    "\n",
    "    #local_maxima_me = np.argwhere(np.bitwise_or.reduce(arr))\n",
    "    \n",
    "    \n",
    "    local_maxima = np.argwhere(np.bitwise_or.reduce(arr))\n",
    "    add = np.zeros(local_maxima[:,0].shape)\n",
    "    local_maxima = np.concatenate((local_maxima, add[:,np.newaxis]), axis=1).astype(\"int64\")\n",
    "    \n",
    "    #lm_si = local_maxima.astype(np.float64)\n",
    "    \n",
    "    \n",
    "    #lm_si[:, 2] = sigma_list[local_maxima[:, 2]]\n",
    "    \n",
    "    print(local_maxima.shape)\n",
    "    \n",
    "    for blob1, blob2 in itt.combinations(local_maxima, 2):\n",
    "        d = hypot(blob1[0] - blob2[0], blob1[1] - blob2[1])\n",
    "        if d < 30 :\n",
    "            blob2[2] = -1\n",
    "           \n",
    "    \n",
    "    return np.array([b for b in local_maxima if b[2] >= 0])\n",
    "        "
   ]
  },
  {
   "cell_type": "code",
   "execution_count": null,
   "metadata": {
    "collapsed": false
   },
   "outputs": [],
   "source": [
    "local_maxima_me = find_blob_DoG(img_divide[:,:2000])"
   ]
  },
  {
   "cell_type": "code",
   "execution_count": null,
   "metadata": {
    "collapsed": false
   },
   "outputs": [],
   "source": [
    "print(local_maxima_me.shape)"
   ]
  },
  {
   "cell_type": "code",
   "execution_count": null,
   "metadata": {
    "collapsed": false
   },
   "outputs": [],
   "source": [
    "#blobs_log = blob_log(img_divide, min_sigma=5, max_sigma=50, threshold=0.1,overlap = 0.8)"
   ]
  },
  {
   "cell_type": "code",
   "execution_count": null,
   "metadata": {
    "collapsed": false
   },
   "outputs": [],
   "source": [
    "#blobs_dog_d = blob_dog(img_divide, min_sigma=5, max_sigma=50, threshold=0.8, overlap = 0.8)"
   ]
  },
  {
   "cell_type": "code",
   "execution_count": null,
   "metadata": {
    "collapsed": false
   },
   "outputs": [],
   "source": [
    "img_eq = equalize_hist(img_divide)"
   ]
  },
  {
   "cell_type": "code",
   "execution_count": null,
   "metadata": {
    "collapsed": false
   },
   "outputs": [],
   "source": [
    "fig, axes = plt.subplots(2,1, figsize=(40, 30))\n",
    "\n",
    "axes[0].imshow(img_divide, cmap='gray',interpolation='nearest')\n",
    "axes[0].scatter(local_maxima_me[:,1], local_maxima_me[:,0], marker='o', facecolors='none', edgecolors='r')\n",
    "\n",
    "axes[1].imshow(img_eq, cmap='gray',interpolation='nearest')\n",
    "axes[1].scatter(local_maxima_me[:,1], local_maxima_me[:,0], marker='o', facecolors='none', edgecolors='r')\n",
    "#axes.scatter(blobs_log[:,1], blobs_log[:,0], marker='D', facecolors='none', edgecolors='g')"
   ]
  },
  {
   "cell_type": "markdown",
   "metadata": {
    "collapsed": false
   },
   "source": [
    "### img_rescale = rescale_intensity(img_divide, in_range=(0, 256))"
   ]
  },
  {
   "cell_type": "code",
   "execution_count": null,
   "metadata": {
    "collapsed": false
   },
   "outputs": [],
   "source": [
    "fig, (ax1, ax2) = plt.subplots(1, 2, figsize=(15, 6))\n",
    "ax1.imshow(img_rescale, cmap='gray',interpolation='nearest')\n",
    "#ax2.plot(coins[1000, :])"
   ]
  },
  {
   "cell_type": "code",
   "execution_count": null,
   "metadata": {
    "collapsed": true
   },
   "outputs": [],
   "source": [
    "from skimage.segmentation import random_walker"
   ]
  },
  {
   "cell_type": "code",
   "execution_count": null,
   "metadata": {
    "collapsed": false
   },
   "outputs": [],
   "source": [
    "markers = np.zeros(coins.shape, dtype=np.uint)\n",
    "markers[coins < 400] = 1\n",
    "markers[coins > 600] = 2"
   ]
  },
  {
   "cell_type": "code",
   "execution_count": null,
   "metadata": {
    "collapsed": false
   },
   "outputs": [],
   "source": [
    "labels = random_walker(coins, markers, beta=10, mode='bf')"
   ]
  },
  {
   "cell_type": "code",
   "execution_count": null,
   "metadata": {
    "collapsed": false
   },
   "outputs": [],
   "source": [
    "fig, (ax1, ax2) = plt.subplots(1, 2, figsize=(15, 8),\n",
    "                                    sharex=True, sharey=True)\n",
    "ax1.imshow(coins, cmap='gray', interpolation='nearest')\n",
    "ax1.axis('off')\n",
    "ax1.set_adjustable('box-forced')\n",
    "ax1.set_title('Noisy data')\n",
    "\n",
    "ax2.imshow(labels, cmap='gray', interpolation='nearest')\n",
    "ax2.axis('off')\n",
    "ax2.set_adjustable('box-forced')\n",
    "ax2.set_title('Segmentation')"
   ]
  },
  {
   "cell_type": "code",
   "execution_count": null,
   "metadata": {
    "collapsed": false
   },
   "outputs": [],
   "source": [
    "fig, (ax1, ax2) = plt.subplots(1, 2, figsize=(15, 6))\n",
    "ax1.imshow(coins, cmap=plt.cm.gray, interpolation='nearest')\n",
    "ax2.imshow(img_divide, cmap=plt.cm.gray, interpolation='nearest')"
   ]
  },
  {
   "cell_type": "code",
   "execution_count": null,
   "metadata": {
    "collapsed": false
   },
   "outputs": [],
   "source": [
    "coins = img_divide\n",
    "\n",
    "#hist = np.histogram(coins, bins=np.arange(0, 20))\n",
    "\n",
    "fig, (ax1, ax2) = plt.subplots(1, 2, figsize=(15, 6))\n",
    "ax1.imshow(coins, cmap=plt.cm.gray, interpolation='nearest')\n",
    "ax1.axis('off')\n",
    "ax2.plot(coins[1000, :])"
   ]
  },
  {
   "cell_type": "code",
   "execution_count": null,
   "metadata": {
    "collapsed": false
   },
   "outputs": [],
   "source": [
    "elevation_map = sobel(coins)\n",
    "\n",
    "fig, ax = plt.subplots(figsize=(12, 9))\n",
    "ax.imshow(elevation_map, cmap=plt.cm.gray, interpolation='nearest')\n",
    "ax.axis('off')\n",
    "ax.set_title('elevation_map')"
   ]
  },
  {
   "cell_type": "code",
   "execution_count": null,
   "metadata": {
    "collapsed": false
   },
   "outputs": [],
   "source": [
    "fig, (ax1) = plt.subplots(1, 1, figsize=(15, 6))\n",
    "ax1.plot(elevation_map[1000, :])"
   ]
  },
  {
   "cell_type": "code",
   "execution_count": null,
   "metadata": {
    "collapsed": false
   },
   "outputs": [],
   "source": [
    "markers = np.zeros_like(coins)\n",
    "markers[coins < 0.9] = 1\n",
    "markers[coins > 1.12] = 2\n",
    "\n",
    "fig, ax = plt.subplots(figsize=(12, 9))\n",
    "ax.imshow(markers, cmap=plt.cm.spectral, interpolation='nearest')\n",
    "ax.axis('off')\n",
    "ax.set_title('markers')"
   ]
  },
  {
   "cell_type": "code",
   "execution_count": null,
   "metadata": {
    "collapsed": false
   },
   "outputs": [],
   "source": [
    "from skimage import morphology\n",
    "\n",
    "segmentation = morphology.watershed(elevation_map, markers)\n",
    "\n",
    "fig, ax = plt.subplots(figsize=(12, 9))\n",
    "ax.imshow(segmentation, cmap=plt.cm.gray, interpolation='nearest')\n",
    "ax.axis('off')\n",
    "ax.set_title('segmentation')"
   ]
  },
  {
   "cell_type": "code",
   "execution_count": null,
   "metadata": {
    "collapsed": false
   },
   "outputs": [],
   "source": [
    "from skimage.color import label2rgb\n",
    "from scipy import ndimage as ndi\n",
    "\n",
    "segmentation_filled = ndi.binary_fill_holes(segmentation - 1)\n",
    "labeled_coins, _ = ndi.label(segmentation_filled)\n",
    "image_label_overlay = label2rgb(labeled_coins, image=coins)\n",
    "\n",
    "fig, (ax1, ax2) = plt.subplots(1, 2, figsize=(18, 9), sharex=True, sharey=True)\n",
    "ax1.imshow(coins, cmap=plt.cm.gray, interpolation='nearest')\n",
    "ax1.contour(segmentation_filled, [0.5], linewidths=1.2, colors='y')\n",
    "ax1.axis('off')\n",
    "ax1.set_adjustable('box-forced')\n",
    "ax2.imshow(image_label_overlay, interpolation='nearest')\n",
    "ax2.axis('off')\n",
    "ax2.set_adjustable('box-forced')"
   ]
  },
  {
   "cell_type": "code",
   "execution_count": null,
   "metadata": {
    "collapsed": false
   },
   "outputs": [],
   "source": [
    "from scipy import ndimage as ndi\n",
    "\n",
    "from skimage.morphology import watershed\n",
    "from skimage.feature import peak_local_max\n",
    "\n",
    "distance = ndi.distance_transform_edt(coins)\n",
    "local_maxi = peak_local_max(distance, indices=False, footprint=np.ones((3, 3)),\n",
    "                            labels=coins)\n",
    "\n",
    "markers = ndi.label(local_maxi)[0]\n",
    "labels = watershed(-distance, markers, mask=image)"
   ]
  },
  {
   "cell_type": "code",
   "execution_count": null,
   "metadata": {
    "collapsed": true
   },
   "outputs": [],
   "source": [
    "ig, axes = plt.subplots(ncols=3, figsize=(8, 2.7), sharex=True, sharey=True,\n",
    "                         subplot_kw={'adjustable': 'box-forced'})\n",
    "ax0, ax1, ax2 = axes\n",
    "\n",
    "ax0.imshow(coins, cmap=plt.cm.gray, interpolation='nearest')\n",
    "ax0.set_title('Overlapping objects')\n",
    "ax1.imshow(-distance, cmap=plt.cm.gray, interpolation='nearest')\n",
    "ax1.set_title('Distances')\n",
    "ax2.imshow(labels, cmap=plt.cm.spectral, interpolation='nearest')\n",
    "ax2.set_title('Separated objects')"
   ]
  },
  {
   "cell_type": "code",
   "execution_count": null,
   "metadata": {
    "collapsed": true
   },
   "outputs": [],
   "source": []
  }
 ],
 "metadata": {
  "kernelspec": {
   "display_name": "Python 3",
   "language": "python",
   "name": "python3"
  },
  "language_info": {
   "codemirror_mode": {
    "name": "ipython",
    "version": 3
   },
   "file_extension": ".py",
   "mimetype": "text/x-python",
   "name": "python",
   "nbconvert_exporter": "python",
   "pygments_lexer": "ipython3",
   "version": "3.5.1"
  }
 },
 "nbformat": 4,
 "nbformat_minor": 0
}
